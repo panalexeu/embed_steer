{
 "cells": [
  {
   "cell_type": "markdown",
   "id": "12d27d63-2c1b-4626-a4ff-38c4857bb891",
   "metadata": {},
   "source": [
    "Before proceeding with batch processing, the cost should be estimated. To do so, the batch processing file will be used together with `hugging-face`. Tokenizer for for `llama-3.1-8b` will be used."
   ]
  },
  {
   "cell_type": "code",
   "execution_count": 1,
   "id": "2884dd1d-9f34-4851-827f-f59394284f01",
   "metadata": {},
   "outputs": [
    {
     "name": "stderr",
     "output_type": "stream",
     "text": [
      "/home/oleksii/python/embed_steer/.venv/lib/python3.12/site-packages/tqdm/auto.py:21: TqdmWarning: IProgress not found. Please update jupyter and ipywidgets. See https://ipywidgets.readthedocs.io/en/stable/user_install.html\n",
      "  from .autonotebook import tqdm as notebook_tqdm\n"
     ]
    }
   ],
   "source": [
    "from transformers import AutoTokenizer\n",
    "\n",
    "tokenizer = AutoTokenizer.from_pretrained(\"meta-llama/Llama-3.1-8B\")"
   ]
  },
  {
   "cell_type": "code",
   "execution_count": 2,
   "id": "81db4bdd-e78e-47ad-9719-a7b291e4315b",
   "metadata": {},
   "outputs": [
    {
     "data": {
      "text/plain": [
       "{'custom_id': 'doc0',\n",
       " 'method': 'POST',\n",
       " 'url': '/v1/chat/completions',\n",
       " 'body': {'model': 'llama-3.1-8b-instant',\n",
       "  'messages': [{'role': 'system',\n",
       "    'content': 'You are a helpful AI assistant.\\nGenerate most relevant and short search question for the document excerpt provided by the user.\\nReturn only the generated query without quotes or trailing punctuation marks.'},\n",
       "   {'role': 'user',\n",
       "    'content': \"Minority interest In accounting, minority interest (or non-controlling interest) is the portion of a subsidiary corporation's stock that is not owned by the parent corporation. The magnitude of the minority interest in the subsidiary company is generally less than 50% of outstanding shares, or the corporation would generally cease to be a subsidiary of the parent.[1]\"}]}}"
      ]
     },
     "execution_count": 2,
     "metadata": {},
     "output_type": "execute_result"
    }
   ],
   "source": [
    "import json \n",
    "\n",
    "with open('../test-batch-syn-queries.jsonl', 'r') as file: \n",
    "    content = file.read() \n",
    "    calls = content.split('\\n') \n",
    "    calls = list(map(lambda x: json.loads(x), calls)) \n",
    "\n",
    "calls[0]"
   ]
  },
  {
   "cell_type": "code",
   "execution_count": null,
   "id": "b4ec1dd1-f1c2-4306-bcdc-c977ec4a9e22",
   "metadata": {},
   "outputs": [],
   "source": []
  }
 ],
 "metadata": {
  "kernelspec": {
   "display_name": "embed-steer",
   "language": "python",
   "name": "embed-steer"
  },
  "language_info": {
   "codemirror_mode": {
    "name": "ipython",
    "version": 3
   },
   "file_extension": ".py",
   "mimetype": "text/x-python",
   "name": "python",
   "nbconvert_exporter": "python",
   "pygments_lexer": "ipython3",
   "version": "3.12.3"
  }
 },
 "nbformat": 4,
 "nbformat_minor": 5
}
