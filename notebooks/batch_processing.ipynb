{
 "cells": [
  {
   "cell_type": "markdown",
   "id": "12d27d63-2c1b-4626-a4ff-38c4857bb891",
   "metadata": {},
   "source": [
    "Before proceeding with batch processing, the cost should be estimated. To do so, the batch processing file will be used together with `hugging-face`. Tokenizer for for `llama-3.1-8b` will be used."
   ]
  },
  {
   "cell_type": "code",
   "execution_count": 9,
   "id": "2884dd1d-9f34-4851-827f-f59394284f01",
   "metadata": {},
   "outputs": [],
   "source": [
    "from transformers import AutoTokenizer\n",
    "\n",
    "tokenizer = AutoTokenizer.from_pretrained(\"meta-llama/Llama-3.1-8B-Instruct\")"
   ]
  },
  {
   "cell_type": "code",
   "execution_count": 10,
   "id": "81db4bdd-e78e-47ad-9719-a7b291e4315b",
   "metadata": {},
   "outputs": [
    {
     "data": {
      "text/plain": [
       "{'custom_id': 'doc0',\n",
       " 'method': 'POST',\n",
       " 'url': '/v1/chat/completions',\n",
       " 'body': {'model': 'llama-3.1-8b-instant',\n",
       "  'messages': [{'role': 'system',\n",
       "    'content': 'You are a helpful AI assistant.\\nGenerate most relevant and short search question for the document excerpt provided by the user.\\nReturn only the generated query without quotes or trailing punctuation marks.'},\n",
       "   {'role': 'user',\n",
       "    'content': \"Minority interest In accounting, minority interest (or non-controlling interest) is the portion of a subsidiary corporation's stock that is not owned by the parent corporation. The magnitude of the minority interest in the subsidiary company is generally less than 50% of outstanding shares, or the corporation would generally cease to be a subsidiary of the parent.[1]\"}]}}"
      ]
     },
     "execution_count": 10,
     "metadata": {},
     "output_type": "execute_result"
    }
   ],
   "source": [
    "import json \n",
    "\n",
    "with open('../test-batch-syn-queries.jsonl', 'r') as file: \n",
    "    content = file.read() \n",
    "    calls = content.split('\\n') \n",
    "    calls = list(map(lambda x: json.loads(x), calls)) \n",
    "\n",
    "calls[0]"
   ]
  },
  {
   "cell_type": "code",
   "execution_count": 11,
   "id": "b4ec1dd1-f1c2-4306-bcdc-c977ec4a9e22",
   "metadata": {},
   "outputs": [
    {
     "data": {
      "text/plain": [
       "[{'role': 'system',\n",
       "  'content': 'You are a helpful AI assistant.\\nGenerate most relevant and short search question for the document excerpt provided by the user.\\nReturn only the generated query without quotes or trailing punctuation marks.'},\n",
       " {'role': 'user',\n",
       "  'content': \"Minority interest In accounting, minority interest (or non-controlling interest) is the portion of a subsidiary corporation's stock that is not owned by the parent corporation. The magnitude of the minority interest in the subsidiary company is generally less than 50% of outstanding shares, or the corporation would generally cease to be a subsidiary of the parent.[1]\"}]"
      ]
     },
     "execution_count": 11,
     "metadata": {},
     "output_type": "execute_result"
    }
   ],
   "source": [
    "calls[0]['body']['messages']"
   ]
  },
  {
   "cell_type": "code",
   "execution_count": 14,
   "id": "c5c4515a-80ac-48e5-9d13-74eb602e8070",
   "metadata": {},
   "outputs": [
    {
     "data": {
      "text/plain": [
       "\"<|begin_of_text|><|start_header_id|>system<|end_header_id|>\\n\\nCutting Knowledge Date: December 2023\\nToday Date: 26 Jul 2024\\n\\nYou are a helpful AI assistant.\\nGenerate most relevant and short search question for the document excerpt provided by the user.\\nReturn only the generated query without quotes or trailing punctuation marks.<|eot_id|><|start_header_id|>user<|end_header_id|>\\n\\nMinority interest In accounting, minority interest (or non-controlling interest) is the portion of a subsidiary corporation's stock that is not owned by the parent corporation. The magnitude of the minority interest in the subsidiary company is generally less than 50% of outstanding shares, or the corporation would generally cease to be a subsidiary of the parent.[1]<|eot_id|>\""
      ]
     },
     "execution_count": 14,
     "metadata": {},
     "output_type": "execute_result"
    }
   ],
   "source": [
    "chat_str = tokenizer.apply_chat_template(calls[0]['body']['messages'], tokenize=False)\n",
    "chat_str"
   ]
  },
  {
   "cell_type": "code",
   "execution_count": 16,
   "id": "09770492-416f-4e1b-bb44-6582a2b14dc1",
   "metadata": {},
   "outputs": [
    {
     "data": {
      "text/plain": [
       "136"
      ]
     },
     "execution_count": 16,
     "metadata": {},
     "output_type": "execute_result"
    }
   ],
   "source": [
    "tokens = tokenizer.apply_chat_template(calls[0]['body']['messages'], tokenize=True)\n",
    "len(tokens)"
   ]
  },
  {
   "cell_type": "code",
   "execution_count": 18,
   "id": "cf91b63d-0ac2-452f-96aa-94811c0cdecc",
   "metadata": {},
   "outputs": [
    {
     "name": "stdout",
     "output_type": "stream",
     "text": [
      "Reached 0th call. Total tokens: 0.\n",
      "Reached 100000th call. Total tokens: 18300360.\n",
      "Reached 200000th call. Total tokens: 36235060.\n",
      "Reached 300000th call. Total tokens: 54098371.\n",
      "Reached 400000th call. Total tokens: 71861357.\n",
      "Reached 500000th call. Total tokens: 89629704.\n",
      "Reached 600000th call. Total tokens: 107128596.\n",
      "Reached 700000th call. Total tokens: 124768551.\n",
      "Reached 800000th call. Total tokens: 142355643.\n",
      "Reached 900000th call. Total tokens: 159878336.\n",
      "Reached 1000000th call. Total tokens: 177354372.\n",
      "Reached 1100000th call. Total tokens: 194829832.\n",
      "Reached 1200000th call. Total tokens: 212097375.\n",
      "Reached 1300000th call. Total tokens: 229576563.\n",
      "Reached 1400000th call. Total tokens: 246873547.\n",
      "Reached 1500000th call. Total tokens: 264179256.\n",
      "Reached 1600000th call. Total tokens: 281414757.\n",
      "Reached 1700000th call. Total tokens: 298771323.\n",
      "Reached 1800000th call. Total tokens: 315969639.\n",
      "Reached 1900000th call. Total tokens: 333226101.\n",
      "Reached 2000000th call. Total tokens: 350495059.\n",
      "Reached 2100000th call. Total tokens: 367568991.\n",
      "Reached 2200000th call. Total tokens: 384562263.\n",
      "Reached 2300000th call. Total tokens: 401643518.\n",
      "Reached 2400000th call. Total tokens: 418930473.\n",
      "Reached 2500000th call. Total tokens: 436080194.\n",
      "Reached 2600000th call. Total tokens: 453055761.\n"
     ]
    }
   ],
   "source": [
    "flatten = lambda x: x['body']['messages']\n",
    "\n",
    "total_tokens = 0\n",
    "for i, call in enumerate(calls):\n",
    "    if i % 100_000 == 0: \n",
    "        print(f'Reached {i}th call. Total tokens: {total_tokens}.')\n",
    "\n",
    "    chat = flatten(call)\n",
    "    input_tokens = tokenizer.apply_chat_template(chat, tokenize=True)\n",
    "    total_tokens += len(input_tokens)\n",
    "\n",
    "\n"
   ]
  },
  {
   "cell_type": "code",
   "execution_count": 19,
   "id": "a2f57149-adaf-4142-8f2f-381f2ca89b8f",
   "metadata": {},
   "outputs": [
    {
     "data": {
      "text/plain": [
       "466948568"
      ]
     },
     "execution_count": 19,
     "metadata": {},
     "output_type": "execute_result"
    }
   ],
   "source": [
    "total_tokens"
   ]
  },
  {
   "cell_type": "markdown",
   "id": "6972ff8d-109c-4591-bfbe-62aa890ed8c2",
   "metadata": {},
   "source": [
    "The number 466,948,568 in words is:\n",
    "\n",
    "Four hundred sixty-six million, nine hundred forty-eight thousand, five hundred sixty-eight.\n",
    "\n",
    "**It is a lot.**"
   ]
  },
  {
   "cell_type": "markdown",
   "id": "cf80633c-ed7a-4843-9062-f161b195ac05",
   "metadata": {},
   "source": [
    "### Price estimation (for now input only)\n",
    "\n",
    "Llama 3.1 8B Instant 128k =  \\$0.05 per million (20M / 1 dollar) *for input tokens\n",
    "\n"
   ]
  },
  {
   "cell_type": "code",
   "execution_count": 21,
   "id": "e456f4c4-28ca-4a30-aee6-91b3ba59e4d3",
   "metadata": {},
   "outputs": [
    {
     "data": {
      "text/plain": [
       "23"
      ]
     },
     "execution_count": 21,
     "metadata": {},
     "output_type": "execute_result"
    }
   ],
   "source": [
    "res = total_tokens // 20_000_000\n",
    "res"
   ]
  },
  {
   "cell_type": "markdown",
   "id": "2199e64a-0391-4749-bb7f-2b6b978f6749",
   "metadata": {},
   "source": [
    "23 of 20 million"
   ]
  },
  {
   "cell_type": "code",
   "execution_count": 26,
   "id": "4edc0488-38f0-4a53-b0e9-ec2b9086efef",
   "metadata": {},
   "outputs": [
    {
     "data": {
      "text/plain": [
       "6948568"
      ]
     },
     "execution_count": 26,
     "metadata": {},
     "output_type": "execute_result"
    }
   ],
   "source": [
    "left = total_tokens - (res * 20_000_000)\n",
    "left"
   ]
  },
  {
   "cell_type": "markdown",
   "id": "8005d1a1-0eb6-4dfa-8d1d-a5b3c8c816bf",
   "metadata": {},
   "source": [
    "`left` approx. 7 millions "
   ]
  },
  {
   "cell_type": "code",
   "execution_count": 28,
   "id": "4b207e38-74f3-4426-914d-dbe8e44a57f5",
   "metadata": {},
   "outputs": [
    {
     "data": {
      "text/plain": [
       "23.35"
      ]
     },
     "execution_count": 28,
     "metadata": {},
     "output_type": "execute_result"
    }
   ],
   "source": [
    "23 * 1 + 7 * 0.05"
   ]
  },
  {
   "cell_type": "markdown",
   "id": "151a8b37-b09e-43bd-9078-c5bf416ae432",
   "metadata": {},
   "source": [
    "$23.35 just for input tokens, not counting output tokens. However, with batch processing, this price could be cut in half, resulting in:"
   ]
  },
  {
   "cell_type": "code",
   "execution_count": 29,
   "id": "6c5f41a9-05b9-458d-be95-45053f57ee14",
   "metadata": {},
   "outputs": [
    {
     "data": {
      "text/plain": [
       "11.675"
      ]
     },
     "execution_count": 29,
     "metadata": {},
     "output_type": "execute_result"
    }
   ],
   "source": [
    "23.35 / 2"
   ]
  },
  {
   "cell_type": "markdown",
   "id": "6af7eb98-b33b-4418-969d-9571066a12b2",
   "metadata": {},
   "source": [
    "### Price estimation (for now output only)\n",
    "\n",
    "$0.08 per million (12.5M / 1 dollar) *for output tokens"
   ]
  },
  {
   "cell_type": "code",
   "execution_count": 31,
   "id": "f8dd8400-7205-478d-a07a-35465f74732f",
   "metadata": {},
   "outputs": [
    {
     "data": {
      "text/plain": [
       "2681468"
      ]
     },
     "execution_count": 31,
     "metadata": {},
     "output_type": "execute_result"
    }
   ],
   "source": [
    "len(calls)"
   ]
  },
  {
   "cell_type": "markdown",
   "id": "8638a263-aec4-422e-9fbb-91c08bf57b48",
   "metadata": {},
   "source": [
    "Suppose 2,681,468 entries were generated, with queries of 16 tokens each plus 2 special tokens, resulting in 18 tokens per query. In the end, we get the following total number of tokens:"
   ]
  },
  {
   "cell_type": "code",
   "execution_count": 35,
   "id": "2eff50f2-43a1-4aaa-a5f0-4f160774cf64",
   "metadata": {},
   "outputs": [
    {
     "data": {
      "text/plain": [
       "48266424"
      ]
     },
     "execution_count": 35,
     "metadata": {},
     "output_type": "execute_result"
    }
   ],
   "source": [
    "total_output_tokens = len(calls) * 18\n",
    "total_output_tokens"
   ]
  },
  {
   "cell_type": "code",
   "execution_count": 36,
   "id": "69ce8256-ccac-4a5e-acf5-aca80725edbe",
   "metadata": {},
   "outputs": [
    {
     "data": {
      "text/plain": [
       "3"
      ]
     },
     "execution_count": 36,
     "metadata": {},
     "output_type": "execute_result"
    }
   ],
   "source": [
    "res = total_output_tokens // 12_500_000\n",
    "res"
   ]
  },
  {
   "cell_type": "code",
   "execution_count": 37,
   "id": "218aaa0f-40e5-4c9c-9cf0-124861dfc053",
   "metadata": {},
   "outputs": [
    {
     "data": {
      "text/plain": [
       "10766424"
      ]
     },
     "execution_count": 37,
     "metadata": {},
     "output_type": "execute_result"
    }
   ],
   "source": [
    "left = total_output_tokens - (res * 12_500_000)\n",
    "left"
   ]
  },
  {
   "cell_type": "markdown",
   "id": "da316aca-18b5-4742-bba8-a9bda7c50509",
   "metadata": {},
   "source": [
    "`left` approx. 11 millions "
   ]
  },
  {
   "cell_type": "code",
   "execution_count": 40,
   "id": "d42b42fa-87ca-489f-ba3c-6216a82cf979",
   "metadata": {},
   "outputs": [
    {
     "data": {
      "text/plain": [
       "3.88"
      ]
     },
     "execution_count": 40,
     "metadata": {},
     "output_type": "execute_result"
    }
   ],
   "source": [
    "3 * 1 + 11 * 0.08"
   ]
  },
  {
   "cell_type": "markdown",
   "id": "78845780-73a1-420c-9cde-0df377113215",
   "metadata": {},
   "source": [
    "With batch processing: "
   ]
  },
  {
   "cell_type": "code",
   "execution_count": 41,
   "id": "609f1a85-3a25-4f1e-86fc-0b8ba89bc5ab",
   "metadata": {},
   "outputs": [
    {
     "data": {
      "text/plain": [
       "1.94"
      ]
     },
     "execution_count": 41,
     "metadata": {},
     "output_type": "execute_result"
    }
   ],
   "source": [
    "3.88 / 2 "
   ]
  },
  {
   "cell_type": "markdown",
   "id": "ef6a52b1-29da-4e67-aca1-95dfbb15689e",
   "metadata": {},
   "source": [
    "| type     | price                  |\n",
    "| -------- | ---------------------- | \n",
    "| no batch | 3.88 + 23.35 = 27.23   | \n",
    "| batch    | 1.94 + 11.675 = 13.615 |"
   ]
  },
  {
   "cell_type": "markdown",
   "id": "67a4b7f2-984f-46be-9f06-f2b0d17c2ff9",
   "metadata": {},
   "source": [
    "Even with batch processing, $13.615 is still a lot. It feels like deploying a quantized model on my PC is the only option left."
   ]
  }
 ],
 "metadata": {
  "kernelspec": {
   "display_name": "embed-steer",
   "language": "python",
   "name": "myenv"
  },
  "language_info": {
   "codemirror_mode": {
    "name": "ipython",
    "version": 3
   },
   "file_extension": ".py",
   "mimetype": "text/x-python",
   "name": "python",
   "nbconvert_exporter": "python",
   "pygments_lexer": "ipython3",
   "version": "3.12.3"
  }
 },
 "nbformat": 4,
 "nbformat_minor": 5
}
