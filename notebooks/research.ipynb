{
 "cells": [
  {
   "cell_type": "markdown",
   "id": "9e2e5b39-9999-4b50-ada3-ac8af914acab",
   "metadata": {},
   "source": [
    "### Embedding Steering\n",
    "\n",
    "The idea of embedding steering is influenced by attention steering in LLMs [\\[0\\]](https://google.com) and hypothetical document generation in RAG pipelines [\\[1\\]](https://arxiv.org/abs/2212.10496).  \n",
    "In the first iteration, I propose not to influence any inner layers of the embedding model, but rather to steer or influence the final embedding representation of some text.\n",
    "\n",
    "Suppose we have an embedding model that performs well in semantic understanding of text but is not fine-tuned for QA or query–passage retrieval.\n",
    "\n",
    "As a possible option to fix this problem without fine-tuning, I propose:  \n",
    "\n",
    "1. Use an LLM to generate a set of possible queries for a passage;  \n",
    "2. Embed the original passage and the set of possible queries;  \n",
    "3. Use some method to fuse the embeddings of the queries and the passage (weighted averaging, a custom function, etc.);  \n",
    "4. Store the original passage and the fused embedding for retrieval.  \n",
    "\n",
    "To evaluate the proposed method, I suggest using the Natural Questions dataset or MS MARCO.\n",
    "\n",
    "As a metric, I propose using [nDCG@10](https://en.wikipedia.org/wiki/Discounted_cumulative_gain), the same metric used in the MTEB evaluation benchmark for [NQ](https://research.google/pubs/natural-questions-a-benchmark-for-question-answering-research/) and [MS MARCO](https://github.com/microsoft/MSMARCO-Passage-Ranking). The metric evaluates relevant passage ranking and has the following formula:  \n",
    "\n",
    "$$\n",
    "\\text{DCG}_p = \\sum_{i=1}^{p} \\frac{2^{rel_i} - 1}{\\log_2(i + 1)}\n",
    "$$\n",
    "\n",
    "$$\n",
    "\\text{nDCG}_p = \\frac{\\text{DCG}_p}{\\text{IDCG}_p},\n",
    "$$\n",
    "\n",
    "where IDCG is the ideal discounted cumulative gain.\n",
    "\n",
    "I would prefer to use MS MARCO as the evaluation dataset since `sentence-transformers` provides pfine-tuned open-source [models](https://sbert.net/docs/sentence_transformer/pretrained_models.html) on this dataset. This makes it possible to compare the fine-tuned version with the embedding steering method applied to the base model.\n"
   ]
  },
  {
   "cell_type": "markdown",
   "id": "39799b6f-2f22-47c8-b7af-d5c8d5ce6873",
   "metadata": {},
   "source": [
    "### Method Development"
   ]
  },
  {
   "cell_type": "markdown",
   "id": "3a46ba88-881e-4d29-ba5b-0ba921479706",
   "metadata": {},
   "source": [
    "Let's start with familiarizing ourselves with the benchmark data.  \n",
    "The benchmark dataset has the following structure (in `MTEB`):  \n",
    "* queries (the search requests someone makes)  \n",
    "* corpus (a collection of documents)  \n",
    "* qrels or relevant documents (Q = query, Rel = relevance)  \n"
   ]
  },
  {
   "cell_type": "code",
   "execution_count": 71,
   "id": "b4c477fb-06d3-4357-80a4-42070f45775d",
   "metadata": {},
   "outputs": [],
   "source": [
    "from rich import print"
   ]
  },
  {
   "cell_type": "code",
   "execution_count": 1,
   "id": "b6f14f3a-697f-4f9e-a5ba-b5831728023a",
   "metadata": {},
   "outputs": [
    {
     "name": "stderr",
     "output_type": "stream",
     "text": [
      "/home/oleksii/python/embed_steer/.venv/lib/python3.12/site-packages/tqdm/auto.py:21: TqdmWarning: IProgress not found. Please update jupyter and ipywidgets. See https://ipywidgets.readthedocs.io/en/stable/user_install.html\n",
      "  from .autonotebook import tqdm as notebook_tqdm\n",
      "Map: 100%|█████████████████████████████████████████| 4201/4201 [00:00<00:00, 40637.63 examples/s]\n"
     ]
    }
   ],
   "source": [
    "from mteb.tasks import NQ\n",
    "\n",
    "nq = NQ() \n",
    "nq.load_data()"
   ]
  },
  {
   "cell_type": "code",
   "execution_count": 2,
   "id": "f7c73639-32a5-4cfc-a22a-3b0a3d6aceb4",
   "metadata": {},
   "outputs": [
    {
     "data": {
      "text/plain": [
       "['test']"
      ]
     },
     "execution_count": 2,
     "metadata": {},
     "output_type": "execute_result"
    }
   ],
   "source": [
    "split = nq.eval_splits[0]\n",
    "nq.eval_splits"
   ]
  },
  {
   "cell_type": "code",
   "execution_count": 3,
   "id": "cb5bd67f-83d7-4d23-a9eb-eab98cdbf098",
   "metadata": {},
   "outputs": [
    {
     "data": {
      "text/plain": [
       "[('test0', 'what is non controlling interest on balance sheet'),\n",
       " ('test1', 'how many episodes are in chicago fire season 4'),\n",
       " ('test2', 'who sings love will keep us alive by the eagles')]"
      ]
     },
     "execution_count": 3,
     "metadata": {},
     "output_type": "execute_result"
    }
   ],
   "source": [
    "list(nq.queries[split].items())[:3]  # dict[str, str]"
   ]
  },
  {
   "cell_type": "code",
   "execution_count": 4,
   "id": "b0f3be22-482e-4040-8783-e19efe2ac7c6",
   "metadata": {},
   "outputs": [
    {
     "data": {
      "text/plain": [
       "[('doc0',\n",
       "  \"Minority interest In accounting, minority interest (or non-controlling interest) is the portion of a subsidiary corporation's stock that is not owned by the parent corporation. The magnitude of the minority interest in the subsidiary company is generally less than 50% of outstanding shares, or the corporation would generally cease to be a subsidiary of the parent.[1]\"),\n",
       " ('doc1',\n",
       "  'Minority interest It is, however, possible (such as through special voting rights) for a controlling interest requiring consolidation to be achieved without exceeding 50% ownership, depending on the accounting standards being employed. Minority interest belongs to other investors and is reported on the consolidated balance sheet of the owning company to reflect the claim on assets belonging to other, non-controlling shareholders. Also, minority interest is reported on the consolidated income statement as a share of profit belonging to minority shareholders.'),\n",
       " ('doc2',\n",
       "  \"Minority interest The reporting of 'minority interest' is a consequence of the requirement by accounting standards to 'fully' consolidate partly owned subsidiaries. Full consolidation, as opposed to partial consolidation, results in financial statements that are constructed as if the parent corporation fully owns these partly owned subsidiaries; except for two line items that reflect partial ownership of subsidiaries: net income to common shareholders and common equity. The two minority interest line items are the net difference between what would have been the common equity and net income to common, if all subsidiaries were fully owned, and the actual ownership of the group. All the other line items in the financial statements assume a fictitious 100% ownership.\")]"
      ]
     },
     "execution_count": 4,
     "metadata": {},
     "output_type": "execute_result"
    }
   ],
   "source": [
    "list(nq.corpus[split].items())[:3]  # dict[str, str]"
   ]
  },
  {
   "cell_type": "code",
   "execution_count": 5,
   "id": "6f2e7959-2436-4e6e-916a-5fe5748107b7",
   "metadata": {},
   "outputs": [
    {
     "data": {
      "text/plain": [
       "[('test0', {'doc0': 1, 'doc1': 1}),\n",
       " ('test1', {'doc6': 1}),\n",
       " ('test2', {'doc10': 1})]"
      ]
     },
     "execution_count": 5,
     "metadata": {},
     "output_type": "execute_result"
    }
   ],
   "source": [
    "list(nq.relevant_docs[split].items())[:3]  # dict[str, dict[str, str]]"
   ]
  },
  {
   "cell_type": "markdown",
   "id": "cb4af1f5-27b6-422a-9059-27214e80e230",
   "metadata": {},
   "source": [
    "Just for curiosity let's check qrel with the biggest amount of relevant documents."
   ]
  },
  {
   "cell_type": "code",
   "execution_count": 6,
   "id": "8cb0a48d-989c-4d21-a826-b9311827d3cb",
   "metadata": {},
   "outputs": [
    {
     "data": {
      "text/plain": [
       "'test401'"
      ]
     },
     "execution_count": 6,
     "metadata": {},
     "output_type": "execute_result"
    }
   ],
   "source": [
    "sort_qrel = sorted(nq.relevant_docs[split], key=lambda x: len(nq.relevant_docs[split][x]), reverse=True)\n",
    "sort_qrel[0]"
   ]
  },
  {
   "cell_type": "code",
   "execution_count": 7,
   "id": "fe60cd66-3c1b-4aa3-8f6c-cde08c939667",
   "metadata": {},
   "outputs": [
    {
     "data": {
      "text/plain": [
       "{'doc15012': 1, 'doc15013': 1, 'doc15015': 1, 'doc15016': 1}"
      ]
     },
     "execution_count": 7,
     "metadata": {},
     "output_type": "execute_result"
    }
   ],
   "source": [
    "nq.relevant_docs[split]['test401']"
   ]
  },
  {
   "cell_type": "markdown",
   "id": "3e35f2a9-e022-408c-aeda-188e3891f5fc",
   "metadata": {},
   "source": [
    "Let's research in more detail the second qrel."
   ]
  },
  {
   "cell_type": "code",
   "execution_count": 8,
   "id": "c3a4b74d-ff6d-443e-bd99-d0457f37616f",
   "metadata": {},
   "outputs": [
    {
     "data": {
      "text/plain": [
       "'how many episodes are in chicago fire season 4'"
      ]
     },
     "execution_count": 8,
     "metadata": {},
     "output_type": "execute_result"
    }
   ],
   "source": [
    "query = nq.queries[split]['test1']\n",
    "query"
   ]
  },
  {
   "cell_type": "code",
   "execution_count": 9,
   "id": "f547724c-61ba-47ec-9b62-56393897dc44",
   "metadata": {},
   "outputs": [
    {
     "data": {
      "text/plain": [
       "'Chicago Fire (season 4) The fourth season of Chicago Fire, an American drama television series with executive producer Dick Wolf, and producers Derek Haas, Michael Brandt, and Matt Olmstead, was ordered on February 5, 2015, by NBC,[1] and premiered on October 13, 2015 and concluded on May 17, 2016.[2] The season contained 23 episodes.[3]'"
      ]
     },
     "execution_count": 9,
     "metadata": {},
     "output_type": "execute_result"
    }
   ],
   "source": [
    "doc = nq.corpus[split]['doc6']\n",
    "doc"
   ]
  },
  {
   "cell_type": "code",
   "execution_count": 10,
   "id": "e75bdd4b-06e2-4cc2-94bf-f057695d63ea",
   "metadata": {},
   "outputs": [
    {
     "data": {
      "text/plain": [
       "'cosine'"
      ]
     },
     "execution_count": 10,
     "metadata": {},
     "output_type": "execute_result"
    }
   ],
   "source": [
    "from sentence_transformers import SentenceTransformer \n",
    "model = SentenceTransformer('all-MiniLM-L6-v2', device='cuda')\n",
    "model.similarity_fn_name"
   ]
  },
  {
   "cell_type": "code",
   "execution_count": 11,
   "id": "6168bb43-b282-45e2-b0f2-1d71f47a6f3b",
   "metadata": {
    "scrolled": true
   },
   "outputs": [
    {
     "data": {
      "text/plain": [
       "(2, 384)"
      ]
     },
     "execution_count": 11,
     "metadata": {},
     "output_type": "execute_result"
    }
   ],
   "source": [
    "embeds = model.encode([query, doc])\n",
    "embeds.shape "
   ]
  },
  {
   "cell_type": "code",
   "execution_count": 12,
   "id": "4bd4c300-90e4-4e29-bac6-7dabd98f7a2c",
   "metadata": {},
   "outputs": [
    {
     "data": {
      "text/plain": [
       "tensor([[1.0000, 0.9011],\n",
       "        [0.9011, 1.0000]])"
      ]
     },
     "execution_count": 12,
     "metadata": {},
     "output_type": "execute_result"
    }
   ],
   "source": [
    "model.similarity(embeds, embeds)"
   ]
  },
  {
   "cell_type": "markdown",
   "id": "a894d965-b3f6-4c5a-9302-01c322314612",
   "metadata": {},
   "source": [
    "### Mean steering"
   ]
  },
  {
   "cell_type": "code",
   "execution_count": 13,
   "id": "65ad363a-8c51-4b55-80b6-570d7271c3c2",
   "metadata": {},
   "outputs": [
    {
     "data": {
      "text/plain": [
       "array([0.15369153, 0.17991881], dtype=float32)"
      ]
     },
     "execution_count": 13,
     "metadata": {},
     "output_type": "execute_result"
    }
   ],
   "source": [
    "import numpy as np\n",
    "np.max(embeds, axis=1)"
   ]
  },
  {
   "cell_type": "code",
   "execution_count": 14,
   "id": "08f88f40-05ef-4d00-91f0-c9ff331ab649",
   "metadata": {},
   "outputs": [
    {
     "data": {
      "text/plain": [
       "(384,)"
      ]
     },
     "execution_count": 14,
     "metadata": {},
     "output_type": "execute_result"
    }
   ],
   "source": [
    "# mean_steer = (embeds[0] + embeds[1]) / 2 \n",
    "mean_steer = np.mean(embeds, axis=0) # calc mean columnwise\n",
    "mean_steer.shape"
   ]
  },
  {
   "cell_type": "code",
   "execution_count": 15,
   "id": "9e0edc32-1d64-4df8-9941-7f3479b6ab69",
   "metadata": {},
   "outputs": [
    {
     "data": {
      "text/plain": [
       "np.float32(0.16680518)"
      ]
     },
     "execution_count": 15,
     "metadata": {},
     "output_type": "execute_result"
    }
   ],
   "source": [
    "np.max(mean_steer)"
   ]
  },
  {
   "cell_type": "code",
   "execution_count": 16,
   "id": "47fdfb03-3b64-4e68-bf53-4484b133e173",
   "metadata": {},
   "outputs": [
    {
     "data": {
      "text/plain": [
       "(384,)"
      ]
     },
     "execution_count": 16,
     "metadata": {},
     "output_type": "execute_result"
    }
   ],
   "source": [
    "query_emb = model.encode(query)\n",
    "query_emb.shape "
   ]
  },
  {
   "cell_type": "code",
   "execution_count": 17,
   "id": "ca59305f-a6fa-46ab-8097-0f1c01a66b0e",
   "metadata": {},
   "outputs": [],
   "source": [
    "embeds_steer = [query_emb, mean_steer]"
   ]
  },
  {
   "cell_type": "code",
   "execution_count": 18,
   "id": "e328d4c8-297a-4de6-a664-eaf69664172d",
   "metadata": {},
   "outputs": [
    {
     "name": "stderr",
     "output_type": "stream",
     "text": [
      "/home/oleksii/python/embed_steer/.venv/lib/python3.12/site-packages/sentence_transformers/util/tensor.py:28: UserWarning: Creating a tensor from a list of numpy.ndarrays is extremely slow. Please consider converting the list to a single numpy.ndarray with numpy.array() before converting to a tensor. (Triggered internally at /pytorch/torch/csrc/utils/tensor_new.cpp:253.)\n",
      "  a = torch.tensor(a)\n"
     ]
    },
    {
     "data": {
      "text/plain": [
       "tensor([[1.0000, 0.9750],\n",
       "        [0.9750, 1.0000]])"
      ]
     },
     "execution_count": 18,
     "metadata": {},
     "output_type": "execute_result"
    }
   ],
   "source": [
    "model.similarity(embeds_steer, embeds_steer)"
   ]
  },
  {
   "cell_type": "markdown",
   "id": "0ba980d7-a461-4521-b960-ab8c90def17d",
   "metadata": {},
   "source": [
    "### Mean steering, deeper "
   ]
  },
  {
   "cell_type": "markdown",
   "id": "b8f1e205-49a5-4a77-987e-58d9f0481bdb",
   "metadata": {},
   "source": [
    "On this example steering doc with the query boosts cosine similarity score from 0.9011 to 0.9750 (0.0739), let's move forward in this direction and define function for it."
   ]
  },
  {
   "cell_type": "code",
   "execution_count": 123,
   "id": "d7f8bc96-58f6-47a1-bc1f-84dfe738cf20",
   "metadata": {},
   "outputs": [],
   "source": [
    "import numpy as np \n",
    "\n",
    "from sentence_transformers import SentenceTransformer \n",
    "\n",
    "\n",
    "def mean_steer(\n",
    "    model: SentenceTransformer, \n",
    "    queries: list[str] | str,\n",
    "    doc: str \n",
    ") -> np.array: \n",
    "    embeds = model.encode(queries)\n",
    "    doc_embed = model.encode(doc)\n",
    "    embeds = np.vstack([embeds, doc_embed])\n",
    "    return np.mean(embeds, axis=0)\n",
    "    "
   ]
  },
  {
   "cell_type": "code",
   "execution_count": 124,
   "id": "0c13a3be-3a6f-4f6d-b852-8db9a83fd6e5",
   "metadata": {},
   "outputs": [
    {
     "data": {
      "text/plain": [
       "(384,)"
      ]
     },
     "execution_count": 124,
     "metadata": {},
     "output_type": "execute_result"
    }
   ],
   "source": [
    "res = mean_steer(\n",
    "    model, \n",
    "    queries=[query], \n",
    "    doc=doc \n",
    ")\n",
    "res.shape"
   ]
  },
  {
   "cell_type": "code",
   "execution_count": 125,
   "id": "e5717d65-e711-46e8-af6c-7f24fd08f43b",
   "metadata": {},
   "outputs": [],
   "source": [
    "embeds_steer = [model.encode(query), res]"
   ]
  },
  {
   "cell_type": "code",
   "execution_count": 126,
   "id": "30b45571-1c8e-4129-b694-6d728945e61a",
   "metadata": {},
   "outputs": [
    {
     "data": {
      "text/plain": [
       "tensor([[1.0000, 0.9750],\n",
       "        [0.9750, 1.0000]])"
      ]
     },
     "execution_count": 126,
     "metadata": {},
     "output_type": "execute_result"
    }
   ],
   "source": [
    "model.similarity(embeds_steer, embeds_steer)"
   ]
  },
  {
   "cell_type": "markdown",
   "id": "e1c1441d-1a72-4d48-b62f-87dc44c62e7d",
   "metadata": {},
   "source": [
    "Let's test steering on several qrels at the same time and calculate the similarities for them. "
   ]
  },
  {
   "cell_type": "code",
   "execution_count": 127,
   "id": "f1ec2f5b-64a9-42b8-ad35-786239b425c6",
   "metadata": {},
   "outputs": [],
   "source": [
    "def form_qrel(query_id: str) -> tuple[str, list[str, str]]:\n",
    "    docs = [doc for doc in nq.relevant_docs[split][query_id]] \n",
    "    print(docs)\n",
    "    return (\n",
    "        nq.queries[split][query_id],\n",
    "        [nq.corpus[split][doc] for doc in docs]\n",
    "    )"
   ]
  },
  {
   "cell_type": "code",
   "execution_count": 128,
   "id": "5847868b-bdc5-4d7e-b8dd-05e9af38ee88",
   "metadata": {},
   "outputs": [
    {
     "data": {
      "text/html": [
       "<pre style=\"white-space:pre;overflow-x:auto;line-height:normal;font-family:Menlo,'DejaVu Sans Mono',consolas,'Courier New',monospace\"><span style=\"font-weight: bold\">[</span><span style=\"color: #008000; text-decoration-color: #008000\">'doc6'</span><span style=\"font-weight: bold\">]</span>\n",
       "</pre>\n"
      ],
      "text/plain": [
       "\u001b[1m[\u001b[0m\u001b[32m'doc6'\u001b[0m\u001b[1m]\u001b[0m\n"
      ]
     },
     "metadata": {},
     "output_type": "display_data"
    },
    {
     "data": {
      "text/plain": [
       "('how many episodes are in chicago fire season 4',\n",
       " ['Chicago Fire (season 4) The fourth season of Chicago Fire, an American drama television series with executive producer Dick Wolf, and producers Derek Haas, Michael Brandt, and Matt Olmstead, was ordered on February 5, 2015, by NBC,[1] and premiered on October 13, 2015 and concluded on May 17, 2016.[2] The season contained 23 episodes.[3]'])"
      ]
     },
     "execution_count": 128,
     "metadata": {},
     "output_type": "execute_result"
    }
   ],
   "source": [
    "qrel0 = form_qrel('test1')\n",
    "qrel0"
   ]
  },
  {
   "cell_type": "code",
   "execution_count": 129,
   "id": "30225df1-5cba-4018-aee4-9347bf24c57f",
   "metadata": {},
   "outputs": [
    {
     "data": {
      "text/html": [
       "<pre style=\"white-space:pre;overflow-x:auto;line-height:normal;font-family:Menlo,'DejaVu Sans Mono',consolas,'Courier New',monospace\"><span style=\"font-weight: bold\">[</span><span style=\"color: #008000; text-decoration-color: #008000\">'doc10'</span><span style=\"font-weight: bold\">]</span>\n",
       "</pre>\n"
      ],
      "text/plain": [
       "\u001b[1m[\u001b[0m\u001b[32m'doc10'\u001b[0m\u001b[1m]\u001b[0m\n"
      ]
     },
     "metadata": {},
     "output_type": "display_data"
    },
    {
     "data": {
      "text/plain": [
       "('who sings love will keep us alive by the eagles',\n",
       " ['Love Will Keep Us Alive \"Love Will Keep Us Alive\" is a song written by Jim Capaldi, Paul Carrack, and Peter Vale, and produced by the Eagles, Elliot Scheiner, and Rob Jacobs. It was first performed by the Eagles in 1994, during their \"Hell Freezes Over\" reunion tour, with lead vocals by bassist Timothy B. Schmit.'])"
      ]
     },
     "execution_count": 129,
     "metadata": {},
     "output_type": "execute_result"
    }
   ],
   "source": [
    "qrel1 = form_qrel('test2')\n",
    "qrel1"
   ]
  },
  {
   "cell_type": "code",
   "execution_count": 130,
   "id": "443cf44e-ac71-41ba-813e-e9d06af1cb08",
   "metadata": {},
   "outputs": [
    {
     "data": {
      "text/html": [
       "<pre style=\"white-space:pre;overflow-x:auto;line-height:normal;font-family:Menlo,'DejaVu Sans Mono',consolas,'Courier New',monospace\"><span style=\"font-weight: bold\">[</span><span style=\"color: #008000; text-decoration-color: #008000\">'doc42'</span><span style=\"font-weight: bold\">]</span>\n",
       "</pre>\n"
      ],
      "text/plain": [
       "\u001b[1m[\u001b[0m\u001b[32m'doc42'\u001b[0m\u001b[1m]\u001b[0m\n"
      ]
     },
     "metadata": {},
     "output_type": "display_data"
    },
    {
     "data": {
      "text/plain": [
       "('nitty gritty dirt band fishin in the dark album',\n",
       " ['Fishin\\' in the Dark \"Fishin\\' in the Dark\" is a song written by Wendy Waldman and Jim Photoglo and recorded by American country music group The Nitty Gritty Dirt Band. It was released in June 1987 as the second single from their album Hold On.[1] It reached number-one on the U.S. and Canadian country charts. It was the band\\'s third number-one single on the U.S. country music charts and the second in Canada. After it became available for download, it has sold over a million digital copies by 2015.[2] It was certified Platinum by the RIAA on September 12, 2014.[3]'])"
      ]
     },
     "execution_count": 130,
     "metadata": {},
     "output_type": "execute_result"
    }
   ],
   "source": [
    "qrel2 = form_qrel('test4')\n",
    "qrel2"
   ]
  },
  {
   "cell_type": "markdown",
   "id": "a6df8833-d475-4a93-a2dd-f4a2ddfb2db9",
   "metadata": {},
   "source": [
    "**No steering**"
   ]
  },
  {
   "cell_type": "code",
   "execution_count": 131,
   "id": "22d0dcee-a5ac-40b9-8fe8-80efc1c17230",
   "metadata": {},
   "outputs": [],
   "source": [
    "def flat_qrel(qrel: tuple[str, list[str]]) -> list[str]: \n",
    "    flat = [qrel[0]]\n",
    "    flat.extend(qrel[1])\n",
    "    return flat"
   ]
  },
  {
   "cell_type": "code",
   "execution_count": 132,
   "id": "21c9e4ae-5b79-4684-b458-b83f2f66107e",
   "metadata": {},
   "outputs": [
    {
     "data": {
      "text/plain": [
       "(6, 384)"
      ]
     },
     "execution_count": 132,
     "metadata": {},
     "output_type": "execute_result"
    }
   ],
   "source": [
    "flatten_qrels = [\n",
    "    *flat_qrel(qrel0),\n",
    "    *flat_qrel(qrel1),\n",
    "    *flat_qrel(qrel2)\n",
    "]\n",
    "embeds = model.encode(flatten_qrels)\n",
    "embeds.shape"
   ]
  },
  {
   "cell_type": "code",
   "execution_count": 133,
   "id": "2b603b3c-ba6c-4bc0-bc66-7a50aed08551",
   "metadata": {},
   "outputs": [
    {
     "data": {
      "text/plain": [
       "tensor([[ 1.0000,  0.9011,  0.0277,  0.0562,  0.0278, -0.0104],\n",
       "        [ 0.9011,  1.0000, -0.0207,  0.0414, -0.0373, -0.0351],\n",
       "        [ 0.0277, -0.0207,  1.0000,  0.8584,  0.1861,  0.1019],\n",
       "        [ 0.0562,  0.0414,  0.8584,  1.0000,  0.1110,  0.0460],\n",
       "        [ 0.0278, -0.0373,  0.1861,  0.1110,  1.0000,  0.8017],\n",
       "        [-0.0104, -0.0351,  0.1019,  0.0460,  0.8017,  1.0000]])"
      ]
     },
     "execution_count": 133,
     "metadata": {},
     "output_type": "execute_result"
    }
   ],
   "source": [
    "embed_sim = model.similarity(embeds, embeds)\n",
    "embed_sim"
   ]
  },
  {
   "cell_type": "markdown",
   "id": "4bed5e24-fafd-4288-ab1f-13015167e385",
   "metadata": {},
   "source": [
    "Let's also calculate std for similarities before steering. "
   ]
  },
  {
   "cell_type": "code",
   "execution_count": 134,
   "id": "88a3490a-6def-41a5-b0c2-c13c01a88070",
   "metadata": {},
   "outputs": [
    {
     "data": {
      "text/plain": [
       "array([0.4375109 , 0.4558405 , 0.41032594, 0.4106811 , 0.40089607,\n",
       "       0.4187793 ], dtype=float32)"
      ]
     },
     "execution_count": 134,
     "metadata": {},
     "output_type": "execute_result"
    }
   ],
   "source": [
    "stds = np.std(embed_sim.numpy(), axis=1)  # standard deviation (squared root from variance (1/n * sum(x_i - x_avg) ^ 2)) \n",
    "stds"
   ]
  },
  {
   "cell_type": "code",
   "execution_count": 135,
   "id": "adc00b2a-a646-434c-b3e7-dc6da9273afc",
   "metadata": {},
   "outputs": [
    {
     "data": {
      "text/plain": [
       "np.float32(0.42233896)"
      ]
     },
     "execution_count": 135,
     "metadata": {},
     "output_type": "execute_result"
    }
   ],
   "source": [
    "stds.mean()"
   ]
  },
  {
   "cell_type": "markdown",
   "id": "9c14d598-8659-4b93-8b11-0f82df9c7ec5",
   "metadata": {},
   "source": [
    "**With steering**"
   ]
  },
  {
   "cell_type": "code",
   "execution_count": 136,
   "id": "5d34022b-3ef8-4e38-ac97-04f80b8cdf43",
   "metadata": {},
   "outputs": [
    {
     "data": {
      "text/plain": [
       "(384,)"
      ]
     },
     "execution_count": 136,
     "metadata": {},
     "output_type": "execute_result"
    }
   ],
   "source": [
    "qrel0_steer = mean_steer(model, queries=qrel0[0], doc=qrel0[1][0])\n",
    "qrel0_steer.shape"
   ]
  },
  {
   "cell_type": "code",
   "execution_count": 137,
   "id": "78a36195-a842-46be-aac6-6f03c760ca16",
   "metadata": {},
   "outputs": [
    {
     "data": {
      "text/plain": [
       "(384,)"
      ]
     },
     "execution_count": 137,
     "metadata": {},
     "output_type": "execute_result"
    }
   ],
   "source": [
    "qrel1_steer = mean_steer(model, queries=qrel1[0], doc=qrel1[1][0])\n",
    "qrel1_steer.shape"
   ]
  },
  {
   "cell_type": "code",
   "execution_count": 138,
   "id": "66eb1b26-c83b-47dd-bdb1-33fe1e1e7149",
   "metadata": {},
   "outputs": [
    {
     "data": {
      "text/plain": [
       "(384,)"
      ]
     },
     "execution_count": 138,
     "metadata": {},
     "output_type": "execute_result"
    }
   ],
   "source": [
    "qrel2_steer = mean_steer(model, queries=qrel2[0], doc=qrel2[1][0])\n",
    "qrel2_steer.shape"
   ]
  },
  {
   "cell_type": "code",
   "execution_count": 139,
   "id": "da8cb4bf-33df-4742-85a9-5afb5d7ab542",
   "metadata": {},
   "outputs": [
    {
     "data": {
      "text/plain": [
       "(6, 384)"
      ]
     },
     "execution_count": 139,
     "metadata": {},
     "output_type": "execute_result"
    }
   ],
   "source": [
    "steer_qrels = np.array([\n",
    "    model.encode(qrel0[0]), qrel0_steer,\n",
    "    model.encode(qrel1[0]), qrel1_steer,\n",
    "    model.encode(qrel2[0]), qrel2_steer\n",
    "])\n",
    "steer_qrels.shape "
   ]
  },
  {
   "cell_type": "code",
   "execution_count": 140,
   "id": "5b680902-0c53-43ad-8490-323bafc451ab",
   "metadata": {},
   "outputs": [
    {
     "data": {
      "text/plain": [
       "tensor([[ 1.0000,  0.9750,  0.0277,  0.0435,  0.0278,  0.0092],\n",
       "        [ 0.9750,  1.0000,  0.0036,  0.0278, -0.0049, -0.0148],\n",
       "        [ 0.0277,  0.0036,  1.0000,  0.9639,  0.1861,  0.1517],\n",
       "        [ 0.0435,  0.0278,  0.9639,  1.0000,  0.1541,  0.1216],\n",
       "        [ 0.0278, -0.0049,  0.1861,  0.1541,  1.0000,  0.9491],\n",
       "        [ 0.0092, -0.0148,  0.1517,  0.1216,  0.9491,  1.0000]])"
      ]
     },
     "execution_count": 140,
     "metadata": {},
     "output_type": "execute_result"
    }
   ],
   "source": [
    "steer_sim = model.similarity(steer_qrels, steer_qrels)\n",
    "steer_sim"
   ]
  },
  {
   "cell_type": "markdown",
   "id": "81a9e41f-ef98-4a42-9567-2f80e47fdf1c",
   "metadata": {},
   "source": [
    "Let's calculate std for similarities after steering. "
   ]
  },
  {
   "cell_type": "code",
   "execution_count": 141,
   "id": "76916c71-c203-4fa9-b6a6-0cacc22addb0",
   "metadata": {},
   "outputs": [
    {
     "data": {
      "text/plain": [
       "array([0.45291245, 0.46436077, 0.4243574 , 0.42431667, 0.4220798 ,\n",
       "       0.4320356 ], dtype=float32)"
      ]
     },
     "execution_count": 141,
     "metadata": {},
     "output_type": "execute_result"
    }
   ],
   "source": [
    "steer_stds = np.std(steer_sim.numpy(), axis=1)  # standard deviation (squared root from variance (1/n * sum(x_i - x_avg) ^ 2)) \n",
    "steer_stds"
   ]
  },
  {
   "cell_type": "code",
   "execution_count": 142,
   "id": "c22ad1ca-76fb-4ae6-94b5-870cfbad81fa",
   "metadata": {},
   "outputs": [
    {
     "data": {
      "text/plain": [
       "np.float32(0.43667713)"
      ]
     },
     "execution_count": 142,
     "metadata": {},
     "output_type": "execute_result"
    }
   ],
   "source": [
    "steer_stds.mean()"
   ]
  },
  {
   "cell_type": "markdown",
   "id": "5bfbcd13-80ae-4de4-9175-130a250cc407",
   "metadata": {},
   "source": [
    "### Compare stds after and before steering"
   ]
  },
  {
   "cell_type": "code",
   "execution_count": 143,
   "id": "3fbb3cce-c46c-4727-a08d-b92ff7b4de0f",
   "metadata": {},
   "outputs": [
    {
     "data": {
      "text/plain": [
       "np.float32(0.42233896)"
      ]
     },
     "execution_count": 143,
     "metadata": {},
     "output_type": "execute_result"
    }
   ],
   "source": [
    "stds.mean()"
   ]
  },
  {
   "cell_type": "code",
   "execution_count": 144,
   "id": "5d35ea7d-ea85-4301-850c-3e6ec314d3a8",
   "metadata": {},
   "outputs": [
    {
     "data": {
      "text/plain": [
       "np.float32(0.43667713)"
      ]
     },
     "execution_count": 144,
     "metadata": {},
     "output_type": "execute_result"
    }
   ],
   "source": [
    "steer_stds.mean()"
   ]
  },
  {
   "cell_type": "code",
   "execution_count": 145,
   "id": "46662532-641b-4d8b-b48d-31b5f0fb7612",
   "metadata": {},
   "outputs": [
    {
     "data": {
      "text/plain": [
       "array([0.4375109 , 0.4558405 , 0.41032594, 0.4106811 , 0.40089607,\n",
       "       0.4187793 ], dtype=float32)"
      ]
     },
     "execution_count": 145,
     "metadata": {},
     "output_type": "execute_result"
    }
   ],
   "source": [
    "stds"
   ]
  },
  {
   "cell_type": "code",
   "execution_count": 146,
   "id": "afb40a4a-cfeb-469a-b345-eb56f4c612c4",
   "metadata": {},
   "outputs": [
    {
     "data": {
      "text/plain": [
       "array([0.45291245, 0.46436077, 0.4243574 , 0.42431667, 0.4220798 ,\n",
       "       0.4320356 ], dtype=float32)"
      ]
     },
     "execution_count": 146,
     "metadata": {},
     "output_type": "execute_result"
    }
   ],
   "source": [
    "steer_stds"
   ]
  },
  {
   "cell_type": "markdown",
   "id": "a73b95a5-802a-48d9-8b5c-79f36da27cff",
   "metadata": {},
   "source": [
    "As we can see, the std after mean steering increased.  "
   ]
  },
  {
   "cell_type": "markdown",
   "id": "e2899ec4-0a30-4d84-8978-38055140a247",
   "metadata": {},
   "source": [
    "### LLM mean steering\n",
    "\n",
    "For now we were steering with actual relevant query, let's research replacing it with LLM generated query.\n",
    "\n",
    "As the model open-source `llama-3.1-8b-instant` will be used provided by `groq` because of . "
   ]
  },
  {
   "cell_type": "code",
   "execution_count": 147,
   "id": "750fc701-3a5e-4a08-ad7f-4ac3bfdb97a2",
   "metadata": {},
   "outputs": [
    {
     "data": {
      "text/plain": [
       "AsyncPage[Model](data=[Model(id='allam-2-7b', created=1737672203, object='model', owned_by='SDAIA', active=True, context_window=4096, public_apps=None, max_completion_tokens=4096), Model(id='meta-llama/llama-prompt-guard-2-22m', created=1748632101, object='model', owned_by='Meta', active=True, context_window=512, public_apps=None, max_completion_tokens=512), Model(id='gemma2-9b-it', created=1693721698, object='model', owned_by='Google', active=True, context_window=8192, public_apps=None, max_completion_tokens=8192), Model(id='whisper-large-v3', created=1693721698, object='model', owned_by='OpenAI', active=True, context_window=448, public_apps=None, max_completion_tokens=448), Model(id='whisper-large-v3-turbo', created=1728413088, object='model', owned_by='OpenAI', active=True, context_window=448, public_apps=None, max_completion_tokens=448), Model(id='llama-3.1-8b-instant', created=1693721698, object='model', owned_by='Meta', active=True, context_window=131072, public_apps=None, max_completion_tokens=131072), Model(id='meta-llama/llama-4-scout-17b-16e-instruct', created=1743874824, object='model', owned_by='Meta', active=True, context_window=131072, public_apps=None, max_completion_tokens=8192), Model(id='llama3-70b-8192', created=1693721698, object='model', owned_by='Meta', active=True, context_window=8192, public_apps=None, max_completion_tokens=8192), Model(id='openai/gpt-oss-120b', created=1754408224, object='model', owned_by='OpenAI', active=True, context_window=131072, public_apps=None, max_completion_tokens=65536), Model(id='qwen/qwen3-32b', created=1748396646, object='model', owned_by='Alibaba Cloud', active=True, context_window=131072, public_apps=None, max_completion_tokens=40960), Model(id='compound-beta-mini', created=1742953279, object='model', owned_by='Groq', active=True, context_window=131072, public_apps=None, max_completion_tokens=8192), Model(id='llama-3.3-70b-versatile', created=1733447754, object='model', owned_by='Meta', active=True, context_window=131072, public_apps=None, max_completion_tokens=32768), Model(id='meta-llama/llama-4-maverick-17b-128e-instruct', created=1743877158, object='model', owned_by='Meta', active=True, context_window=131072, public_apps=None, max_completion_tokens=8192), Model(id='playai-tts', created=1740682771, object='model', owned_by='PlayAI', active=True, context_window=8192, public_apps=None, max_completion_tokens=8192), Model(id='openai/gpt-oss-20b', created=1754407957, object='model', owned_by='OpenAI', active=True, context_window=131072, public_apps=None, max_completion_tokens=65536), Model(id='playai-tts-arabic', created=1740682783, object='model', owned_by='PlayAI', active=True, context_window=8192, public_apps=None, max_completion_tokens=8192), Model(id='deepseek-r1-distill-llama-70b', created=1737924940, object='model', owned_by='DeepSeek / Meta', active=True, context_window=131072, public_apps=None, max_completion_tokens=131072), Model(id='meta-llama/llama-prompt-guard-2-86m', created=1748632165, object='model', owned_by='Meta', active=True, context_window=512, public_apps=None, max_completion_tokens=512), Model(id='distil-whisper-large-v3-en', created=1693721698, object='model', owned_by='Hugging Face', active=True, context_window=448, public_apps=None, max_completion_tokens=448), Model(id='compound-beta', created=1740880017, object='model', owned_by='Groq', active=True, context_window=131072, public_apps=None, max_completion_tokens=8192), Model(id='moonshotai/kimi-k2-instruct', created=1752435491, object='model', owned_by='Moonshot AI', active=True, context_window=131072, public_apps=None, max_completion_tokens=16384), Model(id='meta-llama/llama-guard-4-12b', created=1746743847, object='model', owned_by='Meta', active=True, context_window=131072, public_apps=None, max_completion_tokens=1024), Model(id='llama3-8b-8192', created=1693721698, object='model', owned_by='Meta', active=True, context_window=8192, public_apps=None, max_completion_tokens=8192)], object='list')"
      ]
     },
     "execution_count": 147,
     "metadata": {},
     "output_type": "execute_result"
    }
   ],
   "source": [
    "from openai import AsyncOpenAI\n",
    "from dotenv import load_dotenv \n",
    "\n",
    "load_dotenv() \n",
    "client = AsyncOpenAI(\n",
    "    base_url='https://api.groq.com/openai/v1'\n",
    ")\n",
    "await client.models.list()"
   ]
  },
  {
   "cell_type": "code",
   "execution_count": 148,
   "id": "2729b715-b3f6-4a00-8066-034e1320408a",
   "metadata": {},
   "outputs": [
    {
     "data": {
      "text/markdown": [
       "Hello, world! It's nice to meet you. Is there something I can help you with or would you like to chat?"
      ],
      "text/plain": [
       "<IPython.core.display.Markdown object>"
      ]
     },
     "execution_count": 148,
     "metadata": {},
     "output_type": "execute_result"
    }
   ],
   "source": [
    "from IPython.display import Markdown\n",
    "\n",
    "res = await client.responses.create(\n",
    "    model='llama-3.1-8b-instant',\n",
    "    input='hello, world!',\n",
    "    temperature=0\n",
    ")\n",
    "Markdown(res.output[1].content[0].text)"
   ]
  },
  {
   "cell_type": "markdown",
   "id": "51914d94-e570-484d-8e87-228b0df96029",
   "metadata": {},
   "source": [
    "**gen_query function definition**"
   ]
  },
  {
   "cell_type": "code",
   "execution_count": 149,
   "id": "c4402cf2-a0b8-404b-9a57-e85b81ba3b18",
   "metadata": {},
   "outputs": [],
   "source": [
    "SYS_PROMPT = '''\n",
    "You are a helpful AI assistant.\n",
    "Generate most relevant and short search question for the document excerpt provided by the user.\n",
    "Return only the generated query.\n",
    "'''.strip() \n",
    "\n",
    "async def gen_query(doc: str, temp: float = 0.7) -> str: \n",
    "    res = await client.responses.create(\n",
    "        model='llama-3.1-8b-instant',\n",
    "        input=[\n",
    "            {\n",
    "                'role': 'system',\n",
    "                'content': SYS_PROMPT \n",
    "            },\n",
    "            {\n",
    "                'role': 'user',\n",
    "                'content': doc\n",
    "            }\n",
    "        ],\n",
    "        temperature=temp \n",
    "    )\n",
    "    return res.output[1].content[0].text.lower()"
   ]
  },
  {
   "cell_type": "markdown",
   "id": "811e9a4a-6c18-4344-9792-0ac6338b091c",
   "metadata": {},
   "source": [
    "Let's compare generated queries with actual "
   ]
  },
  {
   "cell_type": "code",
   "execution_count": 97,
   "id": "4544ee23-e8c3-4d35-94eb-89a8e0e5c7a8",
   "metadata": {},
   "outputs": [
    {
     "data": {
      "text/html": [
       "<pre style=\"white-space:pre;overflow-x:auto;line-height:normal;font-family:Menlo,'DejaVu Sans Mono',consolas,'Courier New',monospace\"><span style=\"font-weight: bold\">[</span><span style=\"color: #008000; text-decoration-color: #008000\">'doc6'</span><span style=\"font-weight: bold\">]</span>\n",
       "</pre>\n"
      ],
      "text/plain": [
       "\u001b[1m[\u001b[0m\u001b[32m'doc6'\u001b[0m\u001b[1m]\u001b[0m\n"
      ]
     },
     "metadata": {},
     "output_type": "display_data"
    },
    {
     "data": {
      "text/html": [
       "<pre style=\"white-space:pre;overflow-x:auto;line-height:normal;font-family:Menlo,'DejaVu Sans Mono',consolas,'Courier New',monospace\"><span style=\"font-weight: bold\">(</span>\n",
       "    <span style=\"color: #008000; text-decoration-color: #008000\">'how many episodes are in chicago fire season 4'</span>,\n",
       "    <span style=\"font-weight: bold\">[</span>\n",
       "        <span style=\"color: #008000; text-decoration-color: #008000\">'Chicago Fire (season 4) The fourth season of Chicago Fire, an American drama television series with </span>\n",
       "<span style=\"color: #008000; text-decoration-color: #008000\">executive producer Dick Wolf, and producers Derek Haas, Michael Brandt, and Matt Olmstead, was ordered on February </span>\n",
       "<span style=\"color: #008000; text-decoration-color: #008000\">5, 2015, by NBC,[1] and premiered on October 13, 2015 and concluded on May 17, 2016.[2] The season contained 23 </span>\n",
       "<span style=\"color: #008000; text-decoration-color: #008000\">episodes.[3]'</span>\n",
       "    <span style=\"font-weight: bold\">]</span>\n",
       "<span style=\"font-weight: bold\">)</span>\n",
       "</pre>\n"
      ],
      "text/plain": [
       "\u001b[1m(\u001b[0m\n",
       "    \u001b[32m'how many episodes are in chicago fire season 4'\u001b[0m,\n",
       "    \u001b[1m[\u001b[0m\n",
       "        \u001b[32m'Chicago Fire \u001b[0m\u001b[32m(\u001b[0m\u001b[32mseason 4\u001b[0m\u001b[32m)\u001b[0m\u001b[32m The fourth season of Chicago Fire, an American drama television series with \u001b[0m\n",
       "\u001b[32mexecutive producer Dick Wolf, and producers Derek Haas, Michael Brandt, and Matt Olmstead, was ordered on February \u001b[0m\n",
       "\u001b[32m5, 2015, by NBC,\u001b[0m\u001b[32m[\u001b[0m\u001b[32m1\u001b[0m\u001b[32m]\u001b[0m\u001b[32m and premiered on October 13, 2015 and concluded on May 17, 2016.\u001b[0m\u001b[32m[\u001b[0m\u001b[32m2\u001b[0m\u001b[32m]\u001b[0m\u001b[32m The season contained 23 \u001b[0m\n",
       "\u001b[32mepisodes.\u001b[0m\u001b[32m[\u001b[0m\u001b[32m3\u001b[0m\u001b[32m]\u001b[0m\u001b[32m'\u001b[0m\n",
       "    \u001b[1m]\u001b[0m\n",
       "\u001b[1m)\u001b[0m\n"
      ]
     },
     "metadata": {},
     "output_type": "display_data"
    },
    {
     "data": {
      "text/plain": [
       "'\"chicago fire season 4 details\"'"
      ]
     },
     "execution_count": 97,
     "metadata": {},
     "output_type": "execute_result"
    }
   ],
   "source": [
    "print(form_qrel('test1'))\n",
    "squery1 = await gen_query(nq.corpus[split]['doc6'], temp=0)\n",
    "squery1"
   ]
  },
  {
   "cell_type": "code",
   "execution_count": 99,
   "id": "b8110f94-6cfc-416e-839f-125cc9f9c4ac",
   "metadata": {},
   "outputs": [
    {
     "data": {
      "text/html": [
       "<pre style=\"white-space:pre;overflow-x:auto;line-height:normal;font-family:Menlo,'DejaVu Sans Mono',consolas,'Courier New',monospace\"><span style=\"font-weight: bold\">[</span><span style=\"color: #008000; text-decoration-color: #008000\">'doc10'</span><span style=\"font-weight: bold\">]</span>\n",
       "</pre>\n"
      ],
      "text/plain": [
       "\u001b[1m[\u001b[0m\u001b[32m'doc10'\u001b[0m\u001b[1m]\u001b[0m\n"
      ]
     },
     "metadata": {},
     "output_type": "display_data"
    },
    {
     "data": {
      "text/html": [
       "<pre style=\"white-space:pre;overflow-x:auto;line-height:normal;font-family:Menlo,'DejaVu Sans Mono',consolas,'Courier New',monospace\"><span style=\"font-weight: bold\">(</span>\n",
       "    <span style=\"color: #008000; text-decoration-color: #008000\">'who sings love will keep us alive by the eagles'</span>,\n",
       "    <span style=\"font-weight: bold\">[</span>\n",
       "        <span style=\"color: #008000; text-decoration-color: #008000\">'Love Will Keep Us Alive \"Love Will Keep Us Alive\" is a song written by Jim Capaldi, Paul Carrack, and </span>\n",
       "<span style=\"color: #008000; text-decoration-color: #008000\">Peter Vale, and produced by the Eagles, Elliot Scheiner, and Rob Jacobs. It was first performed by the Eagles in </span>\n",
       "<span style=\"color: #008000; text-decoration-color: #008000\">1994, during their \"Hell Freezes Over\" reunion tour, with lead vocals by bassist Timothy B. Schmit.'</span>\n",
       "    <span style=\"font-weight: bold\">]</span>\n",
       "<span style=\"font-weight: bold\">)</span>\n",
       "</pre>\n"
      ],
      "text/plain": [
       "\u001b[1m(\u001b[0m\n",
       "    \u001b[32m'who sings love will keep us alive by the eagles'\u001b[0m,\n",
       "    \u001b[1m[\u001b[0m\n",
       "        \u001b[32m'Love Will Keep Us Alive \"Love Will Keep Us Alive\" is a song written by Jim Capaldi, Paul Carrack, and \u001b[0m\n",
       "\u001b[32mPeter Vale, and produced by the Eagles, Elliot Scheiner, and Rob Jacobs. It was first performed by the Eagles in \u001b[0m\n",
       "\u001b[32m1994, during their \"Hell Freezes Over\" reunion tour, with lead vocals by bassist Timothy B. Schmit.'\u001b[0m\n",
       "    \u001b[1m]\u001b[0m\n",
       "\u001b[1m)\u001b[0m\n"
      ]
     },
     "metadata": {},
     "output_type": "display_data"
    },
    {
     "data": {
      "text/plain": [
       "'\"who performed the song love will keep us alive?\"'"
      ]
     },
     "execution_count": 99,
     "metadata": {},
     "output_type": "execute_result"
    }
   ],
   "source": [
    "print(form_qrel('test2'))\n",
    "squery2 = await gen_query(nq.corpus[split]['doc10'], temp=0)\n",
    "squery2 "
   ]
  },
  {
   "cell_type": "code",
   "execution_count": 100,
   "id": "e2668ea7-4ef0-48f1-8f00-2b6cf13bf76f",
   "metadata": {},
   "outputs": [
    {
     "data": {
      "text/html": [
       "<pre style=\"white-space:pre;overflow-x:auto;line-height:normal;font-family:Menlo,'DejaVu Sans Mono',consolas,'Courier New',monospace\"><span style=\"font-weight: bold\">[</span><span style=\"color: #008000; text-decoration-color: #008000\">'doc42'</span><span style=\"font-weight: bold\">]</span>\n",
       "</pre>\n"
      ],
      "text/plain": [
       "\u001b[1m[\u001b[0m\u001b[32m'doc42'\u001b[0m\u001b[1m]\u001b[0m\n"
      ]
     },
     "metadata": {},
     "output_type": "display_data"
    },
    {
     "data": {
      "text/html": [
       "<pre style=\"white-space:pre;overflow-x:auto;line-height:normal;font-family:Menlo,'DejaVu Sans Mono',consolas,'Courier New',monospace\"><span style=\"font-weight: bold\">(</span>\n",
       "    <span style=\"color: #008000; text-decoration-color: #008000\">'nitty gritty dirt band fishin in the dark album'</span>,\n",
       "    <span style=\"font-weight: bold\">[</span>\n",
       "        <span style=\"color: #008000; text-decoration-color: #008000\">'Fishin\\' in the Dark \"Fishin\\' in the Dark\" is a song written by Wendy Waldman and Jim Photoglo and </span>\n",
       "<span style=\"color: #008000; text-decoration-color: #008000\">recorded by American country music group The Nitty Gritty Dirt Band. It was released in June 1987 as the second </span>\n",
       "<span style=\"color: #008000; text-decoration-color: #008000\">single from their album Hold On.[1] It reached number-one on the U.S. and Canadian country charts. It was the </span>\n",
       "<span style=\"color: #008000; text-decoration-color: #008000\">band\\'s third number-one single on the U.S. country music charts and the second in Canada. After it became </span>\n",
       "<span style=\"color: #008000; text-decoration-color: #008000\">available for download, it has sold over a million digital copies by 2015.[2] It was certified Platinum by the RIAA</span>\n",
       "<span style=\"color: #008000; text-decoration-color: #008000\">on September 12, 2014.[3]'</span>\n",
       "    <span style=\"font-weight: bold\">]</span>\n",
       "<span style=\"font-weight: bold\">)</span>\n",
       "</pre>\n"
      ],
      "text/plain": [
       "\u001b[1m(\u001b[0m\n",
       "    \u001b[32m'nitty gritty dirt band fishin in the dark album'\u001b[0m,\n",
       "    \u001b[1m[\u001b[0m\n",
       "        \u001b[32m'Fishin\\' in the Dark \"Fishin\\' in the Dark\" is a song written by Wendy Waldman and Jim Photoglo and \u001b[0m\n",
       "\u001b[32mrecorded by American country music group The Nitty Gritty Dirt Band. It was released in June 1987 as the second \u001b[0m\n",
       "\u001b[32msingle from their album Hold On.\u001b[0m\u001b[32m[\u001b[0m\u001b[32m1\u001b[0m\u001b[32m]\u001b[0m\u001b[32m It reached number-one on the U.S. and Canadian country charts. It was the \u001b[0m\n",
       "\u001b[32mband\\'s third number-one single on the U.S. country music charts and the second in Canada. After it became \u001b[0m\n",
       "\u001b[32mavailable for download, it has sold over a million digital copies by 2015.\u001b[0m\u001b[32m[\u001b[0m\u001b[32m2\u001b[0m\u001b[32m]\u001b[0m\u001b[32m It was certified Platinum by the RIAA\u001b[0m\n",
       "\u001b[32mon September 12, 2014.\u001b[0m\u001b[32m[\u001b[0m\u001b[32m3\u001b[0m\u001b[32m]\u001b[0m\u001b[32m'\u001b[0m\n",
       "    \u001b[1m]\u001b[0m\n",
       "\u001b[1m)\u001b[0m\n"
      ]
     },
     "metadata": {},
     "output_type": "display_data"
    },
    {
     "data": {
      "text/plain": [
       "'what is the song \"fishin\\' in the dark\" by the nitty gritty dirt band?'"
      ]
     },
     "execution_count": 100,
     "metadata": {},
     "output_type": "execute_result"
    }
   ],
   "source": [
    "print(form_qrel('test4'))\n",
    "squery3 = await gen_query(nq.corpus[split]['doc42'], temp=0)\n",
    "squery3"
   ]
  },
  {
   "cell_type": "markdown",
   "id": "21f7755b-104a-41c3-aadb-e54e0b7962fd",
   "metadata": {},
   "source": [
    "### Mean steering on synthetically generated queries\n",
    "\n",
    "Let's apply mean steering with the generated queries too, and compare the results. "
   ]
  },
  {
   "cell_type": "code",
   "execution_count": 94,
   "id": "03b9c2b4-9262-44fe-a162-e90f098d01c2",
   "metadata": {},
   "outputs": [
    {
     "data": {
      "text/html": [
       "<pre style=\"white-space:pre;overflow-x:auto;line-height:normal;font-family:Menlo,'DejaVu Sans Mono',consolas,'Courier New',monospace\"><span style=\"font-weight: bold\">[</span><span style=\"color: #008000; text-decoration-color: #008000\">'doc6'</span><span style=\"font-weight: bold\">]</span>\n",
       "</pre>\n"
      ],
      "text/plain": [
       "\u001b[1m[\u001b[0m\u001b[32m'doc6'\u001b[0m\u001b[1m]\u001b[0m\n"
      ]
     },
     "metadata": {},
     "output_type": "display_data"
    },
    {
     "data": {
      "text/html": [
       "<pre style=\"white-space:pre;overflow-x:auto;line-height:normal;font-family:Menlo,'DejaVu Sans Mono',consolas,'Courier New',monospace\"><span style=\"font-weight: bold\">[</span><span style=\"color: #008000; text-decoration-color: #008000\">'doc10'</span><span style=\"font-weight: bold\">]</span>\n",
       "</pre>\n"
      ],
      "text/plain": [
       "\u001b[1m[\u001b[0m\u001b[32m'doc10'\u001b[0m\u001b[1m]\u001b[0m\n"
      ]
     },
     "metadata": {},
     "output_type": "display_data"
    },
    {
     "data": {
      "text/html": [
       "<pre style=\"white-space:pre;overflow-x:auto;line-height:normal;font-family:Menlo,'DejaVu Sans Mono',consolas,'Courier New',monospace\"><span style=\"font-weight: bold\">[</span><span style=\"color: #008000; text-decoration-color: #008000\">'doc42'</span><span style=\"font-weight: bold\">]</span>\n",
       "</pre>\n"
      ],
      "text/plain": [
       "\u001b[1m[\u001b[0m\u001b[32m'doc42'\u001b[0m\u001b[1m]\u001b[0m\n"
      ]
     },
     "metadata": {},
     "output_type": "display_data"
    },
    {
     "data": {
      "text/plain": [
       "['how many episodes are in chicago fire season 4',\n",
       " 'Chicago Fire (season 4) The fourth season of Chicago Fire, an American drama television series with executive producer Dick Wolf, and producers Derek Haas, Michael Brandt, and Matt Olmstead, was ordered on February 5, 2015, by NBC,[1] and premiered on October 13, 2015 and concluded on May 17, 2016.[2] The season contained 23 episodes.[3]',\n",
       " 'who sings love will keep us alive by the eagles',\n",
       " 'Love Will Keep Us Alive \"Love Will Keep Us Alive\" is a song written by Jim Capaldi, Paul Carrack, and Peter Vale, and produced by the Eagles, Elliot Scheiner, and Rob Jacobs. It was first performed by the Eagles in 1994, during their \"Hell Freezes Over\" reunion tour, with lead vocals by bassist Timothy B. Schmit.',\n",
       " 'nitty gritty dirt band fishin in the dark album',\n",
       " 'Fishin\\' in the Dark \"Fishin\\' in the Dark\" is a song written by Wendy Waldman and Jim Photoglo and recorded by American country music group The Nitty Gritty Dirt Band. It was released in June 1987 as the second single from their album Hold On.[1] It reached number-one on the U.S. and Canadian country charts. It was the band\\'s third number-one single on the U.S. country music charts and the second in Canada. After it became available for download, it has sold over a million digital copies by 2015.[2] It was certified Platinum by the RIAA on September 12, 2014.[3]']"
      ]
     },
     "execution_count": 94,
     "metadata": {},
     "output_type": "execute_result"
    }
   ],
   "source": [
    "qrels = [\n",
    "    *flat_qrel(form_qrel('test1')),\n",
    "    *flat_qrel(form_qrel('test2')),\n",
    "    *flat_qrel(form_qrel('test4'))\n",
    "]\n",
    "qrels"
   ]
  },
  {
   "cell_type": "markdown",
   "id": "9caf2798-c76b-4325-ac91-802769474ac8",
   "metadata": {},
   "source": [
    "**No steer**"
   ]
  },
  {
   "cell_type": "code",
   "execution_count": 151,
   "id": "ef4ab172-9cd8-493c-b19c-d0fc953d75bb",
   "metadata": {},
   "outputs": [
    {
     "data": {
      "text/plain": [
       "(6, 384)"
      ]
     },
     "execution_count": 151,
     "metadata": {},
     "output_type": "execute_result"
    }
   ],
   "source": [
    "embeds = model.encode(qrels)\n",
    "embeds.shape"
   ]
  },
  {
   "cell_type": "code",
   "execution_count": 152,
   "id": "e3e76364-64e8-4d61-b230-51d2316879af",
   "metadata": {},
   "outputs": [
    {
     "data": {
      "text/plain": [
       "tensor([[ 1.0000,  0.9011,  0.0277,  0.0562,  0.0278, -0.0104],\n",
       "        [ 0.9011,  1.0000, -0.0207,  0.0414, -0.0373, -0.0351],\n",
       "        [ 0.0277, -0.0207,  1.0000,  0.8584,  0.1861,  0.1019],\n",
       "        [ 0.0562,  0.0414,  0.8584,  1.0000,  0.1110,  0.0460],\n",
       "        [ 0.0278, -0.0373,  0.1861,  0.1110,  1.0000,  0.8017],\n",
       "        [-0.0104, -0.0351,  0.1019,  0.0460,  0.8017,  1.0000]])"
      ]
     },
     "execution_count": 152,
     "metadata": {},
     "output_type": "execute_result"
    }
   ],
   "source": [
    "embeds_sim = model.similarity(embeds, embeds)\n",
    "embeds_sim"
   ]
  },
  {
   "cell_type": "markdown",
   "id": "7b337623-49cb-4f9b-8e97-68addb276153",
   "metadata": {},
   "source": [
    "**Synthetic mean steer**"
   ]
  },
  {
   "cell_type": "code",
   "execution_count": 153,
   "id": "bd4e68f7-d5bb-44b7-84c5-c0c1d5f75b9b",
   "metadata": {},
   "outputs": [
    {
     "data": {
      "text/plain": [
       "(6, 384)"
      ]
     },
     "execution_count": 153,
     "metadata": {},
     "output_type": "execute_result"
    }
   ],
   "source": [
    "ssteer_embeds = np.array([\n",
    "    model.encode(nq.queries[split]['test1']), mean_steer(model, squery1, nq.corpus[split]['doc6']),\n",
    "    model.encode(nq.queries[split]['test2']), mean_steer(model, squery2, nq.corpus[split]['doc10']),\n",
    "    model.encode(nq.queries[split]['test4']), mean_steer(model, squery3, nq.corpus[split]['doc42']),\n",
    "])\n",
    "ssteer_embeds.shape"
   ]
  },
  {
   "cell_type": "code",
   "execution_count": 154,
   "id": "5bdc2365-08e7-41a4-86a1-57d5c7f90728",
   "metadata": {},
   "outputs": [
    {
     "data": {
      "text/plain": [
       "tensor([[ 1.0000,  0.9156,  0.0277,  0.0262,  0.0278, -0.0124],\n",
       "        [ 0.9156,  1.0000,  0.0373,  0.0903,  0.0586,  0.0232],\n",
       "        [ 0.0277,  0.0373,  1.0000,  0.8528,  0.1861,  0.1629],\n",
       "        [ 0.0262,  0.0903,  0.8528,  1.0000,  0.1624,  0.1459],\n",
       "        [ 0.0278,  0.0586,  0.1861,  0.1624,  1.0000,  0.8978],\n",
       "        [-0.0124,  0.0232,  0.1629,  0.1459,  0.8978,  1.0000]])"
      ]
     },
     "execution_count": 154,
     "metadata": {},
     "output_type": "execute_result"
    }
   ],
   "source": [
    "ssteer_sim = model.similarity(ssteer_embeds, ssteer_embeds)\n",
    "ssteer_sim"
   ]
  },
  {
   "cell_type": "markdown",
   "id": "d59393bc-902c-483f-8cb2-ed7bfc8399f0",
   "metadata": {},
   "source": [
    "**Identical mean steer**"
   ]
  },
  {
   "cell_type": "code",
   "execution_count": 155,
   "id": "749c5f86-1fd1-40c6-b51b-a23642fe92bf",
   "metadata": {},
   "outputs": [
    {
     "data": {
      "text/plain": [
       "tensor([[ 1.0000,  0.9750,  0.0277,  0.0435,  0.0278,  0.0092],\n",
       "        [ 0.9750,  1.0000,  0.0036,  0.0278, -0.0049, -0.0148],\n",
       "        [ 0.0277,  0.0036,  1.0000,  0.9639,  0.1861,  0.1517],\n",
       "        [ 0.0435,  0.0278,  0.9639,  1.0000,  0.1541,  0.1216],\n",
       "        [ 0.0278, -0.0049,  0.1861,  0.1541,  1.0000,  0.9491],\n",
       "        [ 0.0092, -0.0148,  0.1517,  0.1216,  0.9491,  1.0000]])"
      ]
     },
     "execution_count": 155,
     "metadata": {},
     "output_type": "execute_result"
    }
   ],
   "source": [
    "steer_sim = model.similarity(steer_qrels, steer_qrels)\n",
    "steer_sim"
   ]
  },
  {
   "cell_type": "code",
   "execution_count": 156,
   "id": "f7d662db-4361-4dda-b19e-773c1d80198a",
   "metadata": {},
   "outputs": [
    {
     "data": {
      "text/plain": [
       "np.float32(0.42315936)"
      ]
     },
     "execution_count": 156,
     "metadata": {},
     "output_type": "execute_result"
    }
   ],
   "source": [
    "np.std(embeds_sim.numpy())"
   ]
  },
  {
   "cell_type": "code",
   "execution_count": 157,
   "id": "b685bb81-2c67-47f1-9416-780ffd00b9aa",
   "metadata": {},
   "outputs": [
    {
     "data": {
      "text/plain": [
       "np.float32(0.43751502)"
      ]
     },
     "execution_count": 157,
     "metadata": {},
     "output_type": "execute_result"
    }
   ],
   "source": [
    "np.std(steer_sim.numpy())"
   ]
  },
  {
   "cell_type": "code",
   "execution_count": 158,
   "id": "458ed2c4-7294-4b07-8241-3a45a138c0d8",
   "metadata": {},
   "outputs": [
    {
     "data": {
      "text/plain": [
       "np.float32(0.4133015)"
      ]
     },
     "execution_count": 158,
     "metadata": {},
     "output_type": "execute_result"
    }
   ],
   "source": [
    "np.std(ssteer_sim.numpy())"
   ]
  },
  {
   "cell_type": "markdown",
   "id": "005505f0-7569-486c-9afa-1ad1229aa2d9",
   "metadata": {},
   "source": [
    "### Conclusions on Synthetically Generated Queries\n",
    "\n",
    "At first glance, LLaMA generates relevant synthetic queries, and in some cases, the similarity score is increased. Possible next actions are:\n",
    "\n",
    "* Evaluation on the whole benchmark  \n",
    "* Better math formula for fusion  \n",
    "* Research on several query fusions  \n",
    "* Weighted mean steering\n"
   ]
  }
 ],
 "metadata": {
  "kernelspec": {
   "display_name": "embed-steer",
   "language": "python",
   "name": "embed-steer"
  },
  "language_info": {
   "codemirror_mode": {
    "name": "ipython",
    "version": 3
   },
   "file_extension": ".py",
   "mimetype": "text/x-python",
   "name": "python",
   "nbconvert_exporter": "python",
   "pygments_lexer": "ipython3",
   "version": "3.12.3"
  }
 },
 "nbformat": 4,
 "nbformat_minor": 5
}
