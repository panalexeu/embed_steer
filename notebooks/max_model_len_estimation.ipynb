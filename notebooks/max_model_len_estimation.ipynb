{
 "cells": [
  {
   "cell_type": "markdown",
   "id": "87e5825d-e353-439e-bf40-409539ac3b00",
   "metadata": {},
   "source": [
    "Before processing the dataset with a model hosted using vLLM, max-model-len should be estimated to determine the optimal token count for efficient GPU usage."
   ]
  },
  {
   "cell_type": "code",
   "execution_count": 1,
   "id": "ebe80efc-f302-4baa-84cc-3a56059bfb08",
   "metadata": {},
   "outputs": [
    {
     "name": "stderr",
     "output_type": "stream",
     "text": [
      "/home/oleksii/python/embed_steer/.venv/lib/python3.12/site-packages/tqdm/auto.py:21: TqdmWarning: IProgress not found. Please update jupyter and ipywidgets. See https://ipywidgets.readthedocs.io/en/stable/user_install.html\n",
      "  from .autonotebook import tqdm as notebook_tqdm\n"
     ]
    }
   ],
   "source": [
    "from transformers import AutoTokenizer\n",
    "\n",
    "tokenizer = AutoTokenizer.from_pretrained(\"Qwen/Qwen2.5-0.5B-Instruct\")"
   ]
  },
  {
   "cell_type": "code",
   "execution_count": 2,
   "id": "f310185c-1793-4b72-a14e-a1e5484a396f",
   "metadata": {},
   "outputs": [
    {
     "name": "stderr",
     "output_type": "stream",
     "text": [
      "Map: 100%|███████████████████████████████████████████████████████████████████████████████████████████████████████████████| 4201/4201 [00:00<00:00, 14675.49 examples/s]\n"
     ]
    }
   ],
   "source": [
    "from mteb.tasks import NQ\n",
    "\n",
    "nq = NQ() \n",
    "nq.load_data()"
   ]
  },
  {
   "cell_type": "code",
   "execution_count": 3,
   "id": "5b089a70-4667-46b9-a107-8f7fb3d21a5d",
   "metadata": {},
   "outputs": [
    {
     "data": {
      "text/plain": [
       "['test']"
      ]
     },
     "execution_count": 3,
     "metadata": {},
     "output_type": "execute_result"
    }
   ],
   "source": [
    "split = nq.eval_splits[0]\n",
    "nq.eval_splits"
   ]
  },
  {
   "cell_type": "code",
   "execution_count": 4,
   "id": "9bb66315-1594-4a82-99bf-4cc6da274083",
   "metadata": {},
   "outputs": [
    {
     "data": {
      "text/plain": [
       "[('test0', 'what is non controlling interest on balance sheet'),\n",
       " ('test1', 'how many episodes are in chicago fire season 4'),\n",
       " ('test2', 'who sings love will keep us alive by the eagles')]"
      ]
     },
     "execution_count": 4,
     "metadata": {},
     "output_type": "execute_result"
    }
   ],
   "source": [
    "queries = list(nq.queries[split].items())\n",
    "queries[:3]"
   ]
  },
  {
   "cell_type": "code",
   "execution_count": 6,
   "id": "a7c7d2d2-2a69-4297-b726-e76079c338d4",
   "metadata": {},
   "outputs": [
    {
     "data": {
      "text/plain": [
       "[('doc0',\n",
       "  \"Minority interest In accounting, minority interest (or non-controlling interest) is the portion of a subsidiary corporation's stock that is not owned by the parent corporation. The magnitude of the minority interest in the subsidiary company is generally less than 50% of outstanding shares, or the corporation would generally cease to be a subsidiary of the parent.[1]\"),\n",
       " ('doc1',\n",
       "  'Minority interest It is, however, possible (such as through special voting rights) for a controlling interest requiring consolidation to be achieved without exceeding 50% ownership, depending on the accounting standards being employed. Minority interest belongs to other investors and is reported on the consolidated balance sheet of the owning company to reflect the claim on assets belonging to other, non-controlling shareholders. Also, minority interest is reported on the consolidated income statement as a share of profit belonging to minority shareholders.'),\n",
       " ('doc2',\n",
       "  \"Minority interest The reporting of 'minority interest' is a consequence of the requirement by accounting standards to 'fully' consolidate partly owned subsidiaries. Full consolidation, as opposed to partial consolidation, results in financial statements that are constructed as if the parent corporation fully owns these partly owned subsidiaries; except for two line items that reflect partial ownership of subsidiaries: net income to common shareholders and common equity. The two minority interest line items are the net difference between what would have been the common equity and net income to common, if all subsidiaries were fully owned, and the actual ownership of the group. All the other line items in the financial statements assume a fictitious 100% ownership.\")]"
      ]
     },
     "execution_count": 6,
     "metadata": {},
     "output_type": "execute_result"
    }
   ],
   "source": [
    "corpus = list(nq.corpus[split].items())\n",
    "corpus[:3]"
   ]
  },
  {
   "cell_type": "code",
   "execution_count": 8,
   "id": "9966a808-fc54-409c-a017-9348b2113502",
   "metadata": {},
   "outputs": [],
   "source": [
    "queries = sorted(queries, key=lambda x: len(tokenizer.encode(x[1])), reverse=True)"
   ]
  },
  {
   "cell_type": "code",
   "execution_count": 9,
   "id": "96ce22b4-50c5-488d-8774-54e0ad2b51ae",
   "metadata": {},
   "outputs": [
    {
     "data": {
      "text/plain": [
       "('test2302',\n",
       " 'when did bihar bifurcate from bengal and some parts of chota nagpur merged into bengal')"
      ]
     },
     "execution_count": 9,
     "metadata": {},
     "output_type": "execute_result"
    }
   ],
   "source": [
    "queries[0]"
   ]
  },
  {
   "cell_type": "code",
   "execution_count": 12,
   "id": "d8b401e8-379a-4fcc-9b73-80d98ae94199",
   "metadata": {},
   "outputs": [
    {
     "data": {
      "text/plain": [
       "29"
      ]
     },
     "execution_count": 12,
     "metadata": {},
     "output_type": "execute_result"
    }
   ],
   "source": [
    "len(tokenizer.encode(queries[0]))"
   ]
  },
  {
   "cell_type": "code",
   "execution_count": 13,
   "id": "93080ba3-f997-4192-80fd-f780c1f8dd61",
   "metadata": {},
   "outputs": [],
   "source": [
    "corpus = sorted(corpus, key=lambda x: len(tokenizer.encode(x[1])), reverse=True)"
   ]
  },
  {
   "cell_type": "code",
   "execution_count": 14,
   "id": "abf00404-ddaf-461e-8cb0-1dc41f6e3be6",
   "metadata": {},
   "outputs": [
    {
     "data": {
      "text/plain": [
       "('doc2391438',\n",
       " 'Shiva Sahasranama Adaikkalam Kaththan       -        அடைக்கலம் காத்தான் \\nAdaivarkkamudhan          -        அடைவார்க்கமுதன்\\nAdaivorkkiniyan           -        அடைவோர்க்கினியன்\\nAdalarasan                -        ஆடலரசன்\\nAdalazagan                -        ஆடலழகன் \\nAdalerran                 -        அடலேற்றன்\\nAdalvallan                -        ஆடல்வல்லான்\\nAdalvidaippagan           -        அடல்விடைப்பாகன்\\nAdalvidaiyan              -        அடல்விடையான்\\nAdangakkolvan             -        அடங்கக்கொள்வான்\\nAdaravan                  -        ஆடரவன்\\nAdarchadaiyan             -        அடர்ச்சடையன்\\nAdarko                    -        ஆடற்கோ\\nAdhaladaiyan              -        அதளாடையன் \\nAdhi                      -        ஆதி \\nAdhibagavan               -        ஆதிபகவன்\\nAdhipuranan               -        ஆதிபுராணன் \\nAdhiraiyan                -        ஆதிரையன் \\nAdhirthudiyan             -        அதிர்துடியன் \\nAdhirunkazalon            -        அதிருங்கழலோன் \\nAdhiyannal                -        ஆதியண்ணல்\\nAdikal                    -        அடிகள்\\nAdiyarkkiniyan            -        அடியார்க்கினியான்\\nAdiyarkkunallan           -        அடியார்க்குநல்லான் \\nAdumnathan                -        ஆடும்நாதன் \\nAgamabodhan               -        ஆகமபோதன்\\nAgamamanon                -        ஆகமமானோன் \\nAgamanathan               -        ஆகமநாதன் \\nAimmukan                  -        ஐம்முகன் \\nAindhadi                  -        ஐந்தாடி\\nAindhukandhan             -        ஐந்துகந்தான் \\nAinniraththannal          -        ஐந்நிறத்தண்ணல் \\nAinthalaiyaravan          -        *ஐந்தலையரவன் \\nAinthozilon               -        ஐந்தொழிலோன் \\nAivannan                  -        ஐவண்ணன் \\nAiyamerpan                -        ஐயமேற்பான்\\nAiyan                     -        ஐயன்\\nAiyar                     -        ஐயர்\\nAiyaranindhan             -        ஐயாறணிந்தான்\\nAiyarrannal               -        ஐயாற்றண்ணல்\\nAiyarrarasu               -        ஐயாற்றரசு \\nAkandan                   -        அகண்டன்\\nAkilankadandhan           -        அகிலங்கடந்தான் \\nAlagaiyanrozan            -        அளகையன்றோழன்\\nAlakantan                 -        ஆலகண்டன் \\nAlalamundan               -        ஆலாலமுண்டான்\\nAlamarchelvan             -        ஆலமர்செல்வன்\\nAlamardhevan              -        ஆலமர்தேன் \\nAlamarpiran               -        ஆலமர்பிரான் \\nAlamidarran               -        ஆலமிடற்றான் \\nAlamundan                 -        ஆலமுண்டான் \\nAlan                      -        ஆலன்\\nAlaniizalan               -        ஆலநீழலான் \\nAlanthurainathan -        ஆலந்துறைநாதன் \\nAlappariyan               -        அளப்பரியான் \\nAlaramuraiththon -        ஆலறமுறைத்தோன் \\nAlavayadhi                -        ஆலவாய்ஆதி \\nAlavayannal               -        ஆலவாயண்ணல்\\nAlavilan         -        அளவிலான் \\nAlavili                   -        அளவிலி \\nAlavilpemman              -        ஆலவில்பெம்மான் \\nAliyan                    -        அளியான்\\nAlnizarkadavul            -        ஆல்நிழற்கடவுள் \\nAlnizarkuravan            -        ஆல்நிழற்குரவன்\\nAluraiadhi                -        ஆலுறைஆதி \\nAmaivu                    -        அமைவு\\nAmaiyanindhan             -        ஆமையணிந்தான் \\nAmaiyaran                 -        ஆமையாரன் \\nAmaiyottinan              -        ஆமையோட்டினன்\\nAmalan                    -        அமலன் \\nAmararko         -        அமரர்கோ\\nAmararkon                 -        அமரர்கோன் \\nAmbalakkuththan -        அம்பலக்கூத்தன் \\nAmbalaththiisan -        அம்பலத்தீசன் \\nAmbalavan                 -        அம்பலவன் \\nAmbalavanan               -        அம்பலவாணன் \\nAmmai                     -        அம்மை\\nAmman                     -        அம்மான்\\nAmudhan          -        அமுதன் \\nAmudhiivallal             -        அமுதீவள்ளல் \\nAnaiyar                   -        ஆனையார்\\nAnaiyuriyan               -        ஆனையுரியன் \\nAnakan                    -        அனகன்\\nAnaladi          -        அனலாடி \\nAnalendhi                 -        அனலேந்தி\\nAnaluruvan                -        அனலுருவன் \\nAnalviziyan               -        அனல்விழியன் \\nAnandhakkuththan -        ஆனந்தக்கூத்தன் \\nAnandhan                  -        ஆனந்தன் \\nAnangkan         -        அணங்கன்\\nAnanguraipangan -        அணங்குறைபங்கன் \\nAnarchadaiyan             -        அனற்சடையன் \\nAnarkaiyan                -        அனற்கையன் \\nAnarrun          -        அனற்றூண் \\nAnathi                    -        அனாதி\\nAnay                      -        ஆனாய்\\nAnban                     -        அன்பன்\\nAnbarkkanban              -        அன்பர்க்கன்பன் \\nAnbudaiyan                -        அன்புடையான்\\nAnbusivam                 -        அன்புசிவம்\\nAnchadaiyan               -        அஞ்சடையன்\\nAndakai                   -        ஆண்டகை\\nAndamurththi              -        அண்டமூர்த்தி\\nAndan                     -        அண்டன்\\nAndan                     -        ஆண்டான்\\nAndavan          -        ஆண்டவன் \\nAndavanan                 -        அண்டவாணன் \\nAndhamillariyan -        அந்தமில்லாரியன் \\nAndhivannan               -        அந்திவண்ணன் \\nAnekan           -        அனேகன்/அநேகன்\\nAngkanan                  -        அங்கணன்\\nAnip Pon         -        ஆணிப் பொன்\\nAniyan                    -        அணியன்\\nAnna                      -        அண்ணா\\nAnnai                     -        அன்னை\\nAnnamalai                 -        அண்ணாமலை \\nAnnamkanan                -        அன்னம்காணான் \\nAnnal                     -        அண்ணல் \\nAnthamillan               -        அந்தமில்லான் \\nAnthamilli                -        அந்தமில்லி \\nAnthanan         -        அந்தணன்\\nAnthiran         -        அந்திரன்\\nAnu                       -        அணு\\nAnychadaiyan              -        அஞ்சடையன் \\nAnychadiyappan            -        அஞ்சாடியப்பன் \\nAnychaikkalaththappan     -        அஞ்சைக்களத்தப்பன் \\nAnychaiyappan             -        அஞ்சையப்பன் \\nAnychezuththan            -        அஞ்செழுத்தன் \\nAnychezuththu             -        அஞ்செழுத்து\\nAppanar                   -        அப்பனார்\\nAraamuthu                 -        ஆராஅமுது\\nAradharanilayan -        ஆறாதாரநிலயன் \\nAraiyaniyappan            -        அறையணியப்பன் \\nArakkan                   -        அறக்கண்\\nArakkodiyon               -        அறக்கொடியோன் \\nAran                      -        அரன் \\nAranan                    -        ஆரணன்\\nAraneri                   -        அறநெறி\\nAranivon                  -        ஆறணிவோன் \\nAraravan                  -        ஆரரவன் \\nArasu                     -        அரசு\\nAraththurainathan         -        அரத்துறைநாதன் \\nAravachaiththan -        அரவசைத்தான் \\nAravadi          -        அரவாடி \\nAravarthan       -        அரவார்த்தான்\\nAravamudhan               -        ஆராவமுதன் \\nAravan                    -        அறவன்\\nAravaniyan                -        அரவணியன் \\nAravanychudi              -        அரவஞ்சூடி \\nAravaraiyan               -        அரவரையன் \\nAravarcheviyan            -        அரவார்செவியன் \\nAravaththolvalaiyan       -        அரவத்தோள்வளையன் \\nAravaziandhanan -        அறவாழிஅந்தணன் \\nAravendhi                 -        அரவேந்தி \\nAravidaiyan               -        அறவிடையான் \\nArazagan                  -        ஆரழகன் \\nArccithan                 -        அர்ச்சிதன்\\nArchadaiyan               -        ஆர்சடையன் \\nAreruchadaiyan            -        ஆறேறுச்சடையன் \\nAreruchenniyan            -        ஆறேறுச்சென்னியன்\\nArikkumariyan             -        அரிக்குமரியான் \\nArivaipangan              -        அரிவைபங்கன் \\nArivan                    -        அறிவன்\\nArivu                     -        அறிவு\\nArivukkariyon             -        அறிவுக்கரியோன் \\nAriya Ariyon              -        அரியஅரியோன் \\nAriya Ariyon              -        அறியஅரியோன் \\nAriyan                    -        ஆரியன்\\nAriyan                    -        அரியான் \\nAriyasivam                -        அரியசிவம் \\nAriyavar         -        அரியவர்\\nAriyayarkkariyan -        அரியயற்க்கரியன் \\nAriyorukuran              -        அரியோருகூறன் \\nArpudhak Kuththan         -        அற்புதக்கூத்தன்\\nArpudhan                  -        அற்புதன் \\nAru                       -        அரு\\nArul                      -        அருள் \\nArulalan                  -        அருளாளன் \\nArulannal                 -        அருளண்ணல் \\nArulchodhi                -        அருள்சோதி \\nArulirai                  -        அருளிறை \\nArulvallal                -        அருள்வள்ளல் \\nArulvallal Nathan         -        அருள்வள்ளல்நாதன் \\nArulvallan                -        அருள்வல்லான் \\nArumalaruraivan -        அறுமலருறைவான்\\nArumani                   -        அருமணி\\nArumporul                 -        அரும்பொருள்\\nArunmalai                 -        அருண்மலை\\nArunthunai                -        அருந்துணை\\nAruran                    -        ஆரூரன் \\nArurchadaiyan             -        ஆறூர்ச்சடையன் \\nArurmudiyan               -        ஆறூர்முடியன் \\nArut Kuththan             -        அருட்கூத்தன் \\nArutchelvan               -        அருட்செல்வன் \\nArutchudar                -        அருட்சுடர் \\nAruththan                 -        அருத்தன்\\nArutperunychodhi -        அருட்பெருஞ்சோதி \\nArutpizambu               -        அருட்பிழம்பு \\nAruvan                    -        அருவன்\\nAruvuruvan                -        அருவுருவன் \\nArvan                     -        ஆர்வன்\\nAthikunan                 -        அதிகுணன்\\nAthimurththi              -        ஆதிமூர்த்தி\\nAthinathan                -        ஆதிநாதன்\\nAthipiran                 -        ஆதிபிரான்\\nAthisayan                 -        அதிசயன்\\nAththan          -        அத்தன் \\nAththan                   -        ஆத்தன்\\nAththichudi               -        ஆத்திச்சூடி \\nAtkondan                  -        ஆட்கொண்டான் \\nAttugappan                -        ஆட்டுகப்பான் \\nAttamurthy                -        அட்டமூர்த்தி \\nAvanimuzudhudaiyan        -        அவனிமுழுதுடையான்\\nAvinasi          -        அவிநாசி\\nAvinasiyappan             -        அவிநாசியப்பன் \\nAvirchadaiyan             -        அவிர்ச்சடையன் \\nAyavandhinathan -        அயவந்திநாதன் \\nAyirchulan                -        அயிற்சூலன் \\nAyizaiyanban              -        ஆயிழையன்பன் \\nAzagukadhalan             -        அழகுகாதலன் \\nAzakan                    -        அழகன்\\nAzal Vannan               -        அழல்வண்ணன் \\nAzalarchadaiyan -        அழலார்ச்சடையன் \\nAzalmeni                  -        அழல்மேனி \\nAzarkannan                -        அழற்கண்ணன் \\nAzarkuri                  -        அழற்குறி \\nAzicheydhon               -        ஆழிசெய்தோன் \\nAzi Indhan                -        ஆழி ஈந்தான் \\nAzivallal                 -        ஆழிவள்ளல் \\nAzivilan                  -        அழிவிலான் \\nAziyan                    -        ஆழியான் \\nAziyar                    -        ஆழியர்\\nAziyarulndhan             -        ஆழியருள்ந்தான்')"
      ]
     },
     "execution_count": 14,
     "metadata": {},
     "output_type": "execute_result"
    }
   ],
   "source": [
    "corpus[0]"
   ]
  },
  {
   "cell_type": "code",
   "execution_count": 15,
   "id": "bca703b0-8a06-44b8-8d8a-0f98c4848e84",
   "metadata": {},
   "outputs": [
    {
     "data": {
      "text/plain": [
       "4610"
      ]
     },
     "execution_count": 15,
     "metadata": {},
     "output_type": "execute_result"
    }
   ],
   "source": [
    "len(tokenizer.encode(corpus[0]))"
   ]
  },
  {
   "cell_type": "code",
   "execution_count": 17,
   "id": "b067a38c-1cba-4cfb-aace-48cc9c3e0d0a",
   "metadata": {},
   "outputs": [
    {
     "data": {
      "text/plain": [
       "[('test0', {'doc0': 1, 'doc1': 1}),\n",
       " ('test1', {'doc6': 1}),\n",
       " ('test2', {'doc10': 1})]"
      ]
     },
     "execution_count": 17,
     "metadata": {},
     "output_type": "execute_result"
    }
   ],
   "source": [
    "list(nq.relevant_docs[split].items())[:3]"
   ]
  },
  {
   "cell_type": "code",
   "execution_count": 21,
   "id": "ccfc2d34-1f9c-4086-9387-458599863ae7",
   "metadata": {},
   "outputs": [],
   "source": [
    "for qrel in nq.relevant_docs[split].items():\n",
    "    if 'doc2391438' in qrel[1].keys():\n",
    "        print(qrel[0])\n",
    "        break"
   ]
  },
  {
   "cell_type": "markdown",
   "id": "88c5f229-08ad-437c-a74f-3b151a82c0e2",
   "metadata": {},
   "source": [
    "Hmm, it seems that a better strategy, is to use an average document in corpus size. "
   ]
  },
  {
   "cell_type": "code",
   "execution_count": null,
   "id": "39e566d0-8822-4e04-8731-4bd0cd0d7f1b",
   "metadata": {},
   "outputs": [],
   "source": [
    "total_tokens = 0\n",
    "for _, text in corpus:\n",
    "    tokens = tokenizer.encode(text, add_special_tokens=False)\n",
    "    total_tokens += len(tokens)\n",
    "\n",
    "mean_tokens = total_tokens / len(corpus)"
   ]
  },
  {
   "cell_type": "code",
   "execution_count": null,
   "id": "682ee590-8243-47ff-a07d-2ebb85ae3494",
   "metadata": {},
   "outputs": [],
   "source": [
    "mean_tokens"
   ]
  }
 ],
 "metadata": {
  "kernelspec": {
   "display_name": "embed-steer",
   "language": "python",
   "name": "myenv"
  },
  "language_info": {
   "codemirror_mode": {
    "name": "ipython",
    "version": 3
   },
   "file_extension": ".py",
   "mimetype": "text/x-python",
   "name": "python",
   "nbconvert_exporter": "python",
   "pygments_lexer": "ipython3",
   "version": "3.12.3"
  }
 },
 "nbformat": 4,
 "nbformat_minor": 5
}
