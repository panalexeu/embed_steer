{
 "cells": [
  {
   "cell_type": "markdown",
   "id": "7fc812cf-8555-4917-813f-f91f641ff3e0",
   "metadata": {},
   "source": [
    "Let's try tuning the prompt for `Qwen/Qwen2.5-0.5B-Instruct`."
   ]
  },
  {
   "cell_type": "code",
   "execution_count": 3,
   "id": "9e1f56e4-5dea-4e6d-a4af-f5b3d27f7ae6",
   "metadata": {},
   "outputs": [],
   "source": [
    "from openai import OpenAI \n",
    "\n",
    "client = OpenAI(\n",
    "    base_url=\"http://localhost:8000/v1\",\n",
    "    api_key=\"-\"\n",
    ")"
   ]
  },
  {
   "cell_type": "code",
   "execution_count": 4,
   "id": "9d0d229b-17c9-4753-ab06-c561bc486187",
   "metadata": {},
   "outputs": [
    {
     "data": {
      "text/plain": [
       "SyncPage[Model](data=[Model(id='Qwen/Qwen2.5-0.5B-Instruct', created=1756653302, object='model', owned_by='vllm', root='Qwen/Qwen2.5-0.5B-Instruct', parent=None, max_model_len=256, permission=[{'id': 'modelperm-ec9e1c6f62084cdfae956c46286c6f36', 'object': 'model_permission', 'created': 1756653302, 'allow_create_engine': False, 'allow_sampling': True, 'allow_logprobs': True, 'allow_search_indices': False, 'allow_view': True, 'allow_fine_tuning': False, 'organization': '*', 'group': None, 'is_blocking': False}])], object='list')"
      ]
     },
     "execution_count": 4,
     "metadata": {},
     "output_type": "execute_result"
    }
   ],
   "source": [
    "client.models.list()"
   ]
  },
  {
   "cell_type": "code",
   "execution_count": 54,
   "id": "dddc7b83-ab09-4e68-981e-14e2de1fdcc5",
   "metadata": {},
   "outputs": [],
   "source": [
    "def create_chat_completion(\n",
    "    sys_prompt: str, \n",
    "    user_msg: str,\n",
    "    model: str = 'Qwen/Qwen2.5-0.5B-Instruct',\n",
    "    **kwargs \n",
    "):\n",
    "    res = client.chat.completions.create(\n",
    "        model=model,\n",
    "        messages=[\n",
    "            {\n",
    "                'role': 'system',\n",
    "                'content': sys_prompt\n",
    "            },\n",
    "            {\n",
    "                'role': 'user',\n",
    "                'content': user_msg\n",
    "            }\n",
    "        ],\n",
    "        **kwargs\n",
    "    )\n",
    "\n",
    "    return res.choices[0].message.content"
   ]
  },
  {
   "cell_type": "markdown",
   "id": "681f9b60-d3eb-43de-9d5f-0318007f1aae",
   "metadata": {},
   "source": [
    "Load an exapmle dataset."
   ]
  },
  {
   "cell_type": "code",
   "execution_count": 7,
   "id": "a055028f-fd71-49bb-a111-44eb935edcd6",
   "metadata": {},
   "outputs": [
    {
     "name": "stderr",
     "output_type": "stream",
     "text": [
      "/home/oleksii/python/embed_steer/.venv/lib/python3.12/site-packages/tqdm/auto.py:21: TqdmWarning: IProgress not found. Please update jupyter and ipywidgets. See https://ipywidgets.readthedocs.io/en/stable/user_install.html\n",
      "  from .autonotebook import tqdm as notebook_tqdm\n",
      "Map: 100%|███████████████████████████████████████████████████████████████████████████████████████████████████████████████| 4201/4201 [00:00<00:00, 40199.01 examples/s]\n"
     ]
    }
   ],
   "source": [
    "from mteb.tasks import NQ\n",
    "\n",
    "nq = NQ() \n",
    "nq.load_data()"
   ]
  },
  {
   "cell_type": "code",
   "execution_count": 9,
   "id": "e1885041-6595-4d0f-b845-dd11aa2385ce",
   "metadata": {},
   "outputs": [],
   "source": [
    "queries = list(nq.queries['test'].items())\n",
    "corpus = list(nq.corpus['test'].items())"
   ]
  },
  {
   "cell_type": "code",
   "execution_count": 70,
   "id": "be83c898-594b-444f-9650-6a73f886fd34",
   "metadata": {},
   "outputs": [
    {
     "data": {
      "text/plain": [
       "('what is non controlling interest on balance sheet',\n",
       " \"Minority interest In accounting, minority interest (or non-controlling interest) is the portion of a subsidiary corporation's stock that is not owned by the parent corporation. The magnitude of the minority interest in the subsidiary company is generally less than 50% of outstanding shares, or the corporation would generally cease to be a subsidiary of the parent.[1]\")"
      ]
     },
     "execution_count": 70,
     "metadata": {},
     "output_type": "execute_result"
    }
   ],
   "source": [
    "queries[0][1], corpus[0][1]"
   ]
  },
  {
   "cell_type": "code",
   "execution_count": 71,
   "id": "5daecbb1-1dc1-4696-9be4-d7d0f3875f13",
   "metadata": {},
   "outputs": [],
   "source": [
    "sys_prompt = \"\"\"\n",
    "You are a helpful AI assistant. \n",
    "Given a document excerpt, generate a concise and highly relevant search question. \n",
    "Output only the question in lowercase, without quotes or ending punctuation.\n",
    "\"\"\".strip()"
   ]
  },
  {
   "cell_type": "code",
   "execution_count": 72,
   "id": "afebd7f9-2878-4861-997f-bc7fa2ff675d",
   "metadata": {},
   "outputs": [
    {
     "data": {
      "text/plain": [
       "'minority interest in accounting'"
      ]
     },
     "execution_count": 72,
     "metadata": {},
     "output_type": "execute_result"
    }
   ],
   "source": [
    "create_chat_completion(\n",
    "    sys_prompt,\n",
    "    corpus[0][1], \n",
    "    temperature=0\n",
    ")"
   ]
  }
 ],
 "metadata": {
  "kernelspec": {
   "display_name": "embed-steer",
   "language": "python",
   "name": "myenv"
  },
  "language_info": {
   "codemirror_mode": {
    "name": "ipython",
    "version": 3
   },
   "file_extension": ".py",
   "mimetype": "text/x-python",
   "name": "python",
   "nbconvert_exporter": "python",
   "pygments_lexer": "ipython3",
   "version": "3.12.3"
  }
 },
 "nbformat": 4,
 "nbformat_minor": 5
}
