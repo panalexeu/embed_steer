{
 "cells": [
  {
   "cell_type": "markdown",
   "id": "7fc812cf-8555-4917-813f-f91f641ff3e0",
   "metadata": {},
   "source": [
    "Let's try tuning the prompt for `Qwen/Qwen2.5-0.5B-Instruct`."
   ]
  },
  {
   "cell_type": "code",
   "execution_count": 1,
   "id": "9e1f56e4-5dea-4e6d-a4af-f5b3d27f7ae6",
   "metadata": {},
   "outputs": [],
   "source": [
    "from openai import OpenAI \n",
    "\n",
    "client = OpenAI(\n",
    "    base_url=\"http://localhost:8000/v1\",\n",
    "    api_key=\"-\"\n",
    ")"
   ]
  },
  {
   "cell_type": "code",
   "execution_count": 40,
   "id": "9d0d229b-17c9-4753-ab06-c561bc486187",
   "metadata": {},
   "outputs": [
    {
     "data": {
      "text/plain": [
       "SyncPage[Model](data=[Model(id='Qwen/Qwen2.5-0.5B-Instruct', created=1756748005, object='model', owned_by='vllm', root='Qwen/Qwen2.5-0.5B-Instruct', parent=None, max_model_len=256, permission=[{'id': 'modelperm-36b7ea40bb12488fa10a333ec4fc9d22', 'object': 'model_permission', 'created': 1756748005, 'allow_create_engine': False, 'allow_sampling': True, 'allow_logprobs': True, 'allow_search_indices': False, 'allow_view': True, 'allow_fine_tuning': False, 'organization': '*', 'group': None, 'is_blocking': False}])], object='list')"
      ]
     },
     "execution_count": 40,
     "metadata": {},
     "output_type": "execute_result"
    }
   ],
   "source": [
    "client.models.list()"
   ]
  },
  {
   "cell_type": "code",
   "execution_count": 41,
   "id": "dddc7b83-ab09-4e68-981e-14e2de1fdcc5",
   "metadata": {},
   "outputs": [],
   "source": [
    "def create_chat_completion(\n",
    "    sys_prompt: str, \n",
    "    user_msg: str,\n",
    "    model: str = 'Qwen/Qwen2.5-0.5B-Instruct',\n",
    "    **kwargs \n",
    "):\n",
    "    res = client.chat.completions.create(\n",
    "        model=model,\n",
    "        messages=[\n",
    "            {\n",
    "                'role': 'system',\n",
    "                'content': sys_prompt\n",
    "            },\n",
    "            {\n",
    "                'role': 'user',\n",
    "                'content': user_msg\n",
    "            }\n",
    "        ],\n",
    "        **kwargs\n",
    "    )\n",
    "\n",
    "    return res.choices[0].message.content"
   ]
  },
  {
   "cell_type": "markdown",
   "id": "681f9b60-d3eb-43de-9d5f-0318007f1aae",
   "metadata": {},
   "source": [
    "Load an exapmle dataset."
   ]
  },
  {
   "cell_type": "code",
   "execution_count": 29,
   "id": "a055028f-fd71-49bb-a111-44eb935edcd6",
   "metadata": {},
   "outputs": [
    {
     "name": "stderr",
     "output_type": "stream",
     "text": [
      "Map: 100%|███████████████████████████████████████████████████████████████████████████████████████████████████████████████| 4201/4201 [00:00<00:00, 23415.46 examples/s]\n"
     ]
    }
   ],
   "source": [
    "from mteb.tasks import NQ\n",
    "\n",
    "nq = NQ() \n",
    "nq.load_data()"
   ]
  },
  {
   "cell_type": "code",
   "execution_count": 30,
   "id": "e1885041-6595-4d0f-b845-dd11aa2385ce",
   "metadata": {},
   "outputs": [],
   "source": [
    "queries = list(nq.queries['test'].items())\n",
    "corpus = list(nq.corpus['test'].items())\n",
    "qrels = list(nq.relevant_docs['test'].items())"
   ]
  },
  {
   "cell_type": "code",
   "execution_count": 31,
   "id": "907163e9-d9ce-408d-bba3-7e03cc9ef06a",
   "metadata": {},
   "outputs": [
    {
     "data": {
      "text/plain": [
       "[('test0', {'doc0': 1, 'doc1': 1}),\n",
       " ('test1', {'doc6': 1}),\n",
       " ('test2', {'doc10': 1}),\n",
       " ('test3', {'doc17': 1, 'doc18': 1}),\n",
       " ('test4', {'doc42': 1})]"
      ]
     },
     "execution_count": 31,
     "metadata": {},
     "output_type": "execute_result"
    }
   ],
   "source": [
    "qrels[:5]"
   ]
  },
  {
   "cell_type": "code",
   "execution_count": 47,
   "id": "20b9c339-4d00-4339-a8a7-858672c4a66c",
   "metadata": {},
   "outputs": [
    {
     "data": {
      "text/plain": [
       "'who is the leader of the ontario pc party'"
      ]
     },
     "execution_count": 47,
     "metadata": {},
     "output_type": "execute_result"
    }
   ],
   "source": [
    "nq.queries['test']['test3']"
   ]
  },
  {
   "cell_type": "code",
   "execution_count": 48,
   "id": "42e2ce0f-e57c-4095-a1ac-17d9d12d6c28",
   "metadata": {},
   "outputs": [
    {
     "data": {
      "text/plain": [
       "\"Patrick Brown (politician) Patrick Walter Brown MPP (born May 26, 1978) is a Canadian politician who is the leader of the Progressive Conservative Party of Ontario and Ontario's Leader of the Official Opposition. Brown was a federal Conservative member of the House of Commons of Canada from 2006-15 representing the riding of Barrie.\""
      ]
     },
     "execution_count": 48,
     "metadata": {},
     "output_type": "execute_result"
    }
   ],
   "source": [
    "nq.corpus['test']['doc17']"
   ]
  },
  {
   "cell_type": "code",
   "execution_count": 49,
   "id": "5daecbb1-1dc1-4696-9be4-d7d0f3875f13",
   "metadata": {},
   "outputs": [],
   "source": [
    "sys_prompt = \"\"\"\n",
    "You are a helpful AI assistant. \n",
    "Given a document excerpt, generate a concise and highly relevant search question. \n",
    "Output only the question in lowercase, without quotes or ending punctuation.\n",
    "\"\"\".strip()"
   ]
  },
  {
   "cell_type": "code",
   "execution_count": 50,
   "id": "afebd7f9-2878-4861-997f-bc7fa2ff675d",
   "metadata": {},
   "outputs": [
    {
     "data": {
      "text/plain": [
       "\"What is Patrick Brown's political affiliation?\""
      ]
     },
     "execution_count": 50,
     "metadata": {},
     "output_type": "execute_result"
    }
   ],
   "source": [
    "create_chat_completion(\n",
    "    sys_prompt,\n",
    "    nq.corpus['test']['doc17'], \n",
    "    temperature=0\n",
    ")"
   ]
  }
 ],
 "metadata": {
  "kernelspec": {
   "display_name": "embed-steer",
   "language": "python",
   "name": "myenv"
  },
  "language_info": {
   "codemirror_mode": {
    "name": "ipython",
    "version": 3
   },
   "file_extension": ".py",
   "mimetype": "text/x-python",
   "name": "python",
   "nbconvert_exporter": "python",
   "pygments_lexer": "ipython3",
   "version": "3.12.3"
  }
 },
 "nbformat": 4,
 "nbformat_minor": 5
}
